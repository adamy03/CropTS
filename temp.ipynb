{
 "cells": [
  {
   "cell_type": "code",
   "execution_count": 27,
   "metadata": {},
   "outputs": [],
   "source": [
    "import torch\n",
    "import os\n",
    "\n",
    "from argparse import Namespace\n",
    "from momentfm import MOMENTPipeline\n",
    "from momentfm import MOMENT\n",
    "from accelerate import Accelerator\n",
    "from src.data.data_utils import *\n",
    "from src.data.dataset import *\n",
    "from torch.utils.data import Dataset, DataLoader"
   ]
  },
  {
   "cell_type": "code",
   "execution_count": 7,
   "metadata": {},
   "outputs": [],
   "source": [
    "data_path = '/scratch/bbug/ayang1/datasets/lucas_fused/'\n",
    "model_path = '/scratch/bbug/ayang1/experiments/saved/'\n",
    "test_loader = DataLoader(CropTypeDataset(data_path, 'test'), batch_size=1, shuffle=False)"
   ]
  },
  {
   "cell_type": "code",
   "execution_count": 49,
   "metadata": {},
   "outputs": [],
   "source": [
    "config = {\n",
    "    \"task_name\": \"classification\", \n",
    "    \"model_name\": \"MOMENT\", \n",
    "    \"transformer_type\": \"encoder_only\", \n",
    "    \"d_model\": None, \n",
    "    \"seq_len\": 512, \n",
    "    \"patch_len\": 8, \n",
    "    \"patch_stride_len\": 8, \n",
    "    \"device\": \"cpu\", \n",
    "    \"transformer_backbone\": \"google/flan-t5-large\", \n",
    "    \"n_channels\": 7,\n",
    "    \"num_class\": 12,\n",
    "    \"freeze_encoder\": False,\n",
    "    \"freeze_embedder\": False,\n",
    "    \"reduction\": 'concat',\n",
    "    \"enable_gradient_checkpointing\": False\n",
    "    }\n",
    "\n",
    "config = Namespace(**config)\n",
    "m2 = MOMENT(config)\n",
    "\n",
    "with open(os.path.join(model_path, 'benchmarkv2_30_checkpoint/pytorch_model/mp_rank_00_model_states.pt'), 'rb') as f:\n",
    "    model = torch.load(f, map_location=torch.device('cpu'))\n",
    "    "
   ]
  },
  {
   "cell_type": "code",
   "execution_count": 50,
   "metadata": {},
   "outputs": [
    {
     "data": {
      "text/plain": [
       "<All keys matched successfully>"
      ]
     },
     "execution_count": 50,
     "metadata": {},
     "output_type": "execute_result"
    }
   ],
   "source": [
    "m2.load_state_dict(model['module'])"
   ]
  },
  {
   "cell_type": "code",
   "execution_count": 51,
   "metadata": {},
   "outputs": [
    {
     "data": {
      "text/plain": [
       "TimeseriesOutputs(forecast=None, anomaly_scores=None, logits=tensor([[11.6153, -6.3887,  1.9153, -1.6587, -7.7097, 17.5951, -7.1837, -5.4228,\n",
       "         -2.3393, -2.2541, -6.8590, -8.5810]], grad_fn=<AddmmBackward0>), labels=None, input_mask=None, pretrain_mask=None, reconstruction=None, embeddings=tensor([[[ 0.1616, -0.1968, -0.3213,  ..., -0.9042, -0.6671, -0.6653],\n",
       "         [ 0.9280,  0.2896,  0.7292,  ..., -1.0264, -0.7254, -0.9312],\n",
       "         [ 0.4011,  0.4500,  1.0652,  ..., -1.2439, -0.3919, -0.6764],\n",
       "         [ 0.5712,  1.1084,  0.7315,  ..., -0.8817, -1.1315, -1.0928]]],\n",
       "       grad_fn=<UnsafeViewBackward0>), metadata='concat', illegal_output=False)"
      ]
     },
     "execution_count": 51,
     "metadata": {},
     "output_type": "execute_result"
    }
   ],
   "source": [
    "example = test_loader.dataset[1123]\n",
    "m2(example[0].unsqueeze(0), example[1].unsqueeze(0))"
   ]
  },
  {
   "cell_type": "code",
   "execution_count": null,
   "metadata": {},
   "outputs": [],
   "source": []
  }
 ],
 "metadata": {
  "kernelspec": {
   "display_name": "CropTS",
   "language": "python",
   "name": "python3"
  },
  "language_info": {
   "codemirror_mode": {
    "name": "ipython",
    "version": 3
   },
   "file_extension": ".py",
   "mimetype": "text/x-python",
   "name": "python",
   "nbconvert_exporter": "python",
   "pygments_lexer": "ipython3",
   "version": "3.11.9"
  }
 },
 "nbformat": 4,
 "nbformat_minor": 2
}
