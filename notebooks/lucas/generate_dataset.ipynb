{
 "cells": [
  {
   "cell_type": "code",
   "execution_count": 38,
   "metadata": {},
   "outputs": [],
   "source": [
    "import pandas as pd\n",
    "import numpy as np\n",
    "import os\n",
    "import sys\n",
    "import torch\n",
    "sys.path.append('../../')\n",
    "from sklearn.model_selection import train_test_split\n",
    "from tqdm.notebook import tqdm\n",
    "from src.data.data_utils import *\n",
    "from src.data.dataset import *"
   ]
  },
  {
   "cell_type": "code",
   "execution_count": 51,
   "metadata": {},
   "outputs": [],
   "source": [
    "data_root = '/scratch/bbug/ayang1/raw_data/lucas/s1_lucas_2018'\n",
    "save_path = '/scratch/bbug/ayang1/datasets/lucas_dataset_large/vh_vv_full'\n",
    "\n",
    "# Collect ee generated time series data\n",
    "ds = [\n",
    "    'S1_point_10days_10m_1Jan-31Dec_Ireland_ratio-db.csv',\n",
    "    'S1_point_10days_10m_1Jan-31Dec_Italy_ratio-db.csv',\n",
    "    'S1_point_10days_10m_1Jan-31Dec_Netherlands_ratio-db.csv',\n",
    "    'S1_point_10days_10m_1Jan-31Dec_Portugal_ratio-db.csv',\n",
    "    'S1_point_10days_10m_1Jan-31Dec_Belgium_ratio-db.csv',\n",
    "    'S1_point_10days_10m_1Jan-31Dec_Bulgaria_ratio-db.csv',\n",
    "    'S1_point_10days_10m_1Jan-31Dec_Hungary_ratio-db.csv','S1_point_10days_10m_1Jan-31Dec_Slovenia_ratio-db.csv'\n",
    "]"
   ]
  },
  {
   "cell_type": "code",
   "execution_count": null,
   "metadata": {},
   "outputs": [],
   "source": [
    "# Lucas labels \n",
    "labels = pd.read_csv('/scratch/bbug/ayang1/raw_data/lucas/lucas_2018/copernicus_filtered/lucas_2018_filtered.csv')\n",
    "\n",
    "dfs = []\n",
    "for path in ds:\n",
    "    dfs.append(pd.read_csv(os.path.join(data_root, path)))\n",
    "\n",
    "data= pd.concat(dfs)"
   ]
  },
  {
   "cell_type": "code",
   "execution_count": null,
   "metadata": {},
   "outputs": [],
   "source": [
    "# Add labels to signals based on point id\n",
    "crop_data = add_lucas_labels(data, labels)\n",
    "crop_data.drop('system:index', axis=1, inplace=True)\n",
    "crop_data = crop_data.loc[crop_data['LABEL']!='NOT_CROP']"
   ]
  },
  {
   "cell_type": "code",
   "execution_count": null,
   "metadata": {},
   "outputs": [],
   "source": [
    "# Filter out classes with less than 1000 samples\n",
    "counts = np.unique(crop_data['LABEL'], return_counts=True)\n",
    "to_drop = [counts[0][i] for i in range(len(counts[0])) if counts[1][i] < 1000]\n",
    "crop_data = crop_data.loc[~crop_data['LABEL'].isin(to_drop)]\n",
    "\n",
    "print('Dropped classes:', to_drop)"
   ]
  },
  {
   "cell_type": "code",
   "execution_count": 41,
   "metadata": {},
   "outputs": [],
   "source": [
    "crop_data = pd.read_csv(os.path.join(save_path, 'lucas_large.csv'))\n",
    "crop_data.drop(['Unnamed: 0', 'POINT_ID'], axis=1, inplace=True)"
   ]
  },
  {
   "cell_type": "code",
   "execution_count": 42,
   "metadata": {},
   "outputs": [
    {
     "data": {
      "text/html": [
       "<div>\n",
       "<style scoped>\n",
       "    .dataframe tbody tr th:only-of-type {\n",
       "        vertical-align: middle;\n",
       "    }\n",
       "\n",
       "    .dataframe tbody tr th {\n",
       "        vertical-align: top;\n",
       "    }\n",
       "\n",
       "    .dataframe thead th {\n",
       "        text-align: right;\n",
       "    }\n",
       "</style>\n",
       "<table border=\"1\" class=\"dataframe\">\n",
       "  <thead>\n",
       "    <tr style=\"text-align: right;\">\n",
       "      <th></th>\n",
       "      <th>VHVV_20180101</th>\n",
       "      <th>VHVV_20180111</th>\n",
       "      <th>VHVV_20180121</th>\n",
       "      <th>VHVV_20180131</th>\n",
       "      <th>VHVV_20180210</th>\n",
       "      <th>VHVV_20180220</th>\n",
       "      <th>VHVV_20180302</th>\n",
       "      <th>VHVV_20180312</th>\n",
       "      <th>VHVV_20180322</th>\n",
       "      <th>VHVV_20180401</th>\n",
       "      <th>...</th>\n",
       "      <th>VV_20181018</th>\n",
       "      <th>VV_20181028</th>\n",
       "      <th>VV_20181107</th>\n",
       "      <th>VV_20181117</th>\n",
       "      <th>VV_20181127</th>\n",
       "      <th>VV_20181207</th>\n",
       "      <th>VV_20181217</th>\n",
       "      <th>country</th>\n",
       "      <th>LABEL</th>\n",
       "      <th>level1_label</th>\n",
       "    </tr>\n",
       "  </thead>\n",
       "  <tbody>\n",
       "    <tr>\n",
       "      <th>0</th>\n",
       "      <td>0.125109</td>\n",
       "      <td>0.230073</td>\n",
       "      <td>0.177701</td>\n",
       "      <td>0.127450</td>\n",
       "      <td>0.135653</td>\n",
       "      <td>0.119989</td>\n",
       "      <td>0.147544</td>\n",
       "      <td>0.168147</td>\n",
       "      <td>0.102177</td>\n",
       "      <td>0.157390</td>\n",
       "      <td>...</td>\n",
       "      <td>-11.190830</td>\n",
       "      <td>-12.114180</td>\n",
       "      <td>-10.784936</td>\n",
       "      <td>-11.451840</td>\n",
       "      <td>-13.372685</td>\n",
       "      <td>-14.198997</td>\n",
       "      <td>-11.428949</td>\n",
       "      <td>Ireland</td>\n",
       "      <td>B13</td>\n",
       "      <td>1</td>\n",
       "    </tr>\n",
       "    <tr>\n",
       "      <th>1</th>\n",
       "      <td>0.200931</td>\n",
       "      <td>0.259788</td>\n",
       "      <td>0.167076</td>\n",
       "      <td>0.240680</td>\n",
       "      <td>0.189085</td>\n",
       "      <td>0.191945</td>\n",
       "      <td>0.293391</td>\n",
       "      <td>0.200305</td>\n",
       "      <td>0.295674</td>\n",
       "      <td>0.238959</td>\n",
       "      <td>...</td>\n",
       "      <td>-11.012028</td>\n",
       "      <td>-10.562534</td>\n",
       "      <td>-9.808117</td>\n",
       "      <td>-12.352945</td>\n",
       "      <td>-12.027524</td>\n",
       "      <td>-13.005736</td>\n",
       "      <td>-11.338793</td>\n",
       "      <td>Ireland</td>\n",
       "      <td>B13</td>\n",
       "      <td>1</td>\n",
       "    </tr>\n",
       "    <tr>\n",
       "      <th>2</th>\n",
       "      <td>0.176189</td>\n",
       "      <td>0.230273</td>\n",
       "      <td>0.123326</td>\n",
       "      <td>0.161628</td>\n",
       "      <td>0.160330</td>\n",
       "      <td>0.162220</td>\n",
       "      <td>0.252259</td>\n",
       "      <td>0.183998</td>\n",
       "      <td>0.242298</td>\n",
       "      <td>0.159819</td>\n",
       "      <td>...</td>\n",
       "      <td>-10.563501</td>\n",
       "      <td>-10.399241</td>\n",
       "      <td>-9.947539</td>\n",
       "      <td>-11.762892</td>\n",
       "      <td>-12.379931</td>\n",
       "      <td>-12.977741</td>\n",
       "      <td>-11.503675</td>\n",
       "      <td>Ireland</td>\n",
       "      <td>B13</td>\n",
       "      <td>1</td>\n",
       "    </tr>\n",
       "    <tr>\n",
       "      <th>3</th>\n",
       "      <td>0.176559</td>\n",
       "      <td>0.227150</td>\n",
       "      <td>0.124222</td>\n",
       "      <td>0.170073</td>\n",
       "      <td>0.156813</td>\n",
       "      <td>0.137737</td>\n",
       "      <td>0.178656</td>\n",
       "      <td>0.181782</td>\n",
       "      <td>0.187252</td>\n",
       "      <td>0.168330</td>\n",
       "      <td>...</td>\n",
       "      <td>-10.436569</td>\n",
       "      <td>-10.491647</td>\n",
       "      <td>-10.352579</td>\n",
       "      <td>-11.613546</td>\n",
       "      <td>-12.566136</td>\n",
       "      <td>-13.436553</td>\n",
       "      <td>-11.531074</td>\n",
       "      <td>Ireland</td>\n",
       "      <td>B13</td>\n",
       "      <td>1</td>\n",
       "    </tr>\n",
       "    <tr>\n",
       "      <th>4</th>\n",
       "      <td>0.169583</td>\n",
       "      <td>0.223531</td>\n",
       "      <td>0.145587</td>\n",
       "      <td>0.159445</td>\n",
       "      <td>0.165361</td>\n",
       "      <td>0.163532</td>\n",
       "      <td>0.173392</td>\n",
       "      <td>0.127245</td>\n",
       "      <td>0.154878</td>\n",
       "      <td>0.173577</td>\n",
       "      <td>...</td>\n",
       "      <td>-10.820527</td>\n",
       "      <td>-10.832357</td>\n",
       "      <td>-11.041098</td>\n",
       "      <td>-11.660205</td>\n",
       "      <td>-12.633287</td>\n",
       "      <td>-13.149514</td>\n",
       "      <td>-12.314212</td>\n",
       "      <td>Ireland</td>\n",
       "      <td>B13</td>\n",
       "      <td>1</td>\n",
       "    </tr>\n",
       "  </tbody>\n",
       "</table>\n",
       "<p>5 rows × 111 columns</p>\n",
       "</div>"
      ],
      "text/plain": [
       "   VHVV_20180101  VHVV_20180111  VHVV_20180121  VHVV_20180131  VHVV_20180210  \\\n",
       "0       0.125109       0.230073       0.177701       0.127450       0.135653   \n",
       "1       0.200931       0.259788       0.167076       0.240680       0.189085   \n",
       "2       0.176189       0.230273       0.123326       0.161628       0.160330   \n",
       "3       0.176559       0.227150       0.124222       0.170073       0.156813   \n",
       "4       0.169583       0.223531       0.145587       0.159445       0.165361   \n",
       "\n",
       "   VHVV_20180220  VHVV_20180302  VHVV_20180312  VHVV_20180322  VHVV_20180401  \\\n",
       "0       0.119989       0.147544       0.168147       0.102177       0.157390   \n",
       "1       0.191945       0.293391       0.200305       0.295674       0.238959   \n",
       "2       0.162220       0.252259       0.183998       0.242298       0.159819   \n",
       "3       0.137737       0.178656       0.181782       0.187252       0.168330   \n",
       "4       0.163532       0.173392       0.127245       0.154878       0.173577   \n",
       "\n",
       "   ...  VV_20181018  VV_20181028  VV_20181107  VV_20181117  VV_20181127  \\\n",
       "0  ...   -11.190830   -12.114180   -10.784936   -11.451840   -13.372685   \n",
       "1  ...   -11.012028   -10.562534    -9.808117   -12.352945   -12.027524   \n",
       "2  ...   -10.563501   -10.399241    -9.947539   -11.762892   -12.379931   \n",
       "3  ...   -10.436569   -10.491647   -10.352579   -11.613546   -12.566136   \n",
       "4  ...   -10.820527   -10.832357   -11.041098   -11.660205   -12.633287   \n",
       "\n",
       "   VV_20181207  VV_20181217  country  LABEL  level1_label  \n",
       "0   -14.198997   -11.428949  Ireland    B13             1  \n",
       "1   -13.005736   -11.338793  Ireland    B13             1  \n",
       "2   -12.977741   -11.503675  Ireland    B13             1  \n",
       "3   -13.436553   -11.531074  Ireland    B13             1  \n",
       "4   -13.149514   -12.314212  Ireland    B13             1  \n",
       "\n",
       "[5 rows x 111 columns]"
      ]
     },
     "execution_count": 42,
     "metadata": {},
     "output_type": "execute_result"
    }
   ],
   "source": [
    "crop_data.head()"
   ]
  },
  {
   "cell_type": "code",
   "execution_count": 43,
   "metadata": {},
   "outputs": [],
   "source": [
    "# Save datasets as npy files\n",
    "arr = crop_data.to_numpy()\n",
    "# vhvv = arr[:, np.newaxis, 0:36]\n",
    "vh = arr[:, np.newaxis, 36:72].astype(np.float32)\n",
    "vv = arr[:, np.newaxis, 72:108].astype(np.float32)\n",
    "labels = arr[:, 109].astype(str)\n",
    "\n",
    "data = np.concatenate([vh, vv], axis=1)"
   ]
  },
  {
   "cell_type": "code",
   "execution_count": 44,
   "metadata": {},
   "outputs": [],
   "source": [
    "# Generate masks\n",
    "seq_len = vv.shape[2]\n",
    "masks = []\n",
    "for i in range(data.shape[0]):\n",
    "    mask = np.ones((2, seq_len))\n",
    "    mask[:, np.random.randint(0, seq_len):] = 0\n",
    "    masks.append(mask)\n",
    "    "
   ]
  },
  {
   "cell_type": "code",
   "execution_count": 45,
   "metadata": {},
   "outputs": [],
   "source": [
    "train_signals, test_signals, train_labels, test_labels = train_test_split(data, labels, test_size=0.3, random_state=42)\n",
    "train_signals, val_signals, train_labels, val_labels = train_test_split(train_signals, train_labels, test_size=0.1, random_state=42)"
   ]
  },
  {
   "cell_type": "code",
   "execution_count": 50,
   "metadata": {},
   "outputs": [],
   "source": [
    "train_masks = np.array(masks[:train_signals.shape[0]])\n",
    "val_masks = np.array(masks[train_signals.shape[0]:train_signals.shape[0]+val_signals.shape[0]])\n",
    "test_masks = np.array(masks[train_signals.shape[0]+val_signals.shape[0]:])\n",
    "\n",
    "assert train_labels.shape[0] == train_masks.shape[0] == train_signals.shape[0]\n",
    "assert val_labels.shape[0] == val_masks.shape[0] == val_signals.shape[0]\n",
    "assert test_labels.shape[0] == test_masks.shape[0] == test_signals.shape[0]\n",
    "\n",
    "assert len(np.unique(train_labels)) == len(np.unique(val_labels)) == len(np.unique(test_labels))"
   ]
  },
  {
   "cell_type": "code",
   "execution_count": 52,
   "metadata": {},
   "outputs": [
    {
     "name": "stdout",
     "output_type": "stream",
     "text": [
      "62528 6948 29776\n"
     ]
    }
   ],
   "source": [
    "print(len(train_labels), len(val_labels), len(test_labels))"
   ]
  },
  {
   "cell_type": "code",
   "execution_count": 53,
   "metadata": {},
   "outputs": [],
   "source": [
    "np.save(os.path.join(save_path, 'train_signals.npy'), train_signals, allow_pickle=True)\n",
    "np.save(os.path.join(save_path, 'train_labels.npy'), train_labels, allow_pickle=True)\n",
    "np.save(os.path.join(save_path, 'train_masks.npy'), train_masks, allow_pickle=True)\n",
    "\n",
    "np.save(os.path.join(save_path, 'val_signals.npy'), val_signals, allow_pickle=True)\n",
    "np.save(os.path.join(save_path, 'val_labels.npy'), val_labels, allow_pickle=True)\n",
    "np.save(os.path.join(save_path, 'val_masks.npy'), val_masks, allow_pickle=True)\n",
    "\n",
    "np.save(os.path.join(save_path, 'test_signals.npy'), test_signals, allow_pickle=True) \n",
    "np.save(os.path.join(save_path, 'test_labels.npy'), test_labels, allow_pickle=True)\n",
    "np.save(os.path.join(save_path, 'test_masks.npy'), test_masks, allow_pickle=True)"
   ]
  },
  {
   "cell_type": "code",
   "execution_count": 34,
   "metadata": {},
   "outputs": [],
   "source": [
    "ds = CropTypeDataset(save_path, 'train', include_masks=True)"
   ]
  },
  {
   "cell_type": "code",
   "execution_count": 37,
   "metadata": {},
   "outputs": [
    {
     "data": {
      "text/plain": [
       "(tensor([[-16.6133, -15.6661, -16.1065, -16.6811, -16.7711, -18.6049, -17.7341,\n",
       "          -19.2199, -16.9886, -17.6081, -16.9677, -17.4429, -19.6478, -18.3894,\n",
       "          -17.3364, -16.3715, -15.9568, -17.4481, -18.1410, -17.2195, -17.0704,\n",
       "          -19.5750, -18.6725, -19.4411, -18.8879, -17.4893, -18.4655, -20.8458,\n",
       "          -19.9017, -18.1979, -18.5535, -17.7300, -17.9124, -17.0974, -18.3492,\n",
       "          -17.5191],\n",
       "         [-10.2536,  -9.7675,  -8.9075, -10.4543, -11.1093, -12.6301, -11.6318,\n",
       "          -13.1842, -11.2858, -12.7128, -10.9008, -11.0370,  -9.9478, -11.7135,\n",
       "          -11.3061, -11.0687, -12.1598, -10.4776, -11.8476, -11.9927, -12.7566,\n",
       "          -13.0993, -12.2197, -10.9117, -11.6222, -10.8223, -11.3570, -11.3515,\n",
       "          -12.4061, -11.3578, -10.5994, -10.6958, -11.4247, -10.0893, -10.7328,\n",
       "          -10.6686]]),\n",
       " tensor([0., 1., 0., 0., 0., 0., 0., 0., 0., 0., 0., 0., 0., 0., 0., 0., 0., 0.,\n",
       "         0., 0., 0., 0., 0., 0., 0., 0., 0., 0., 0., 0., 0., 0., 0., 0.],\n",
       "        dtype=torch.float64),\n",
       " tensor([[1., 1., 1., 1., 0., 0., 0., 0., 0., 0., 0., 0., 0., 0., 0., 0., 0., 0.,\n",
       "          0., 0., 0., 0., 0., 0., 0., 0., 0., 0., 0., 0., 0., 0., 0., 0., 0., 0.],\n",
       "         [1., 1., 1., 1., 0., 0., 0., 0., 0., 0., 0., 0., 0., 0., 0., 0., 0., 0.,\n",
       "          0., 0., 0., 0., 0., 0., 0., 0., 0., 0., 0., 0., 0., 0., 0., 0., 0., 0.]],\n",
       "        dtype=torch.float64))"
      ]
     },
     "execution_count": 37,
     "metadata": {},
     "output_type": "execute_result"
    }
   ],
   "source": [
    "ds[0]"
   ]
  }
 ],
 "metadata": {
  "kernelspec": {
   "display_name": "cropts",
   "language": "python",
   "name": "python3"
  },
  "language_info": {
   "codemirror_mode": {
    "name": "ipython",
    "version": 3
   },
   "file_extension": ".py",
   "mimetype": "text/x-python",
   "name": "python",
   "nbconvert_exporter": "python",
   "pygments_lexer": "ipython3",
   "version": "3.9.19"
  }
 },
 "nbformat": 4,
 "nbformat_minor": 2
}
