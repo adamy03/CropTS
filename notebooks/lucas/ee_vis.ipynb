{
 "cells": [
  {
   "cell_type": "code",
   "execution_count": 1,
   "metadata": {},
   "outputs": [],
   "source": [
    "import ee\n",
    "import pandas as pd\n",
    "import geopandas as gpd\n",
    "import numpy as np\n",
    "import matplotlib.pyplot as plt\n",
    "import geemap.foliumap as geemap\n",
    "import sys\n",
    "\n",
    "sys.path.append('../../')\n",
    "\n",
    "from src.ee_scripts.ee_utils import *\n",
    "\n",
    "ee.Authenticate()\n",
    "ee.Initialize()"
   ]
  },
  {
   "cell_type": "code",
   "execution_count": 2,
   "metadata": {},
   "outputs": [
    {
     "data": {
      "text/html": [
       "\n",
       "            <style>\n",
       "                .geemap-dark {\n",
       "                    --jp-widgets-color: white;\n",
       "                    --jp-widgets-label-color: white;\n",
       "                    --jp-ui-font-color1: white;\n",
       "                    --jp-layout-color2: #454545;\n",
       "                    background-color: #383838;\n",
       "                }\n",
       "\n",
       "                .geemap-dark .jupyter-button {\n",
       "                    --jp-layout-color3: #383838;\n",
       "                }\n",
       "\n",
       "                .geemap-colab {\n",
       "                    background-color: var(--colab-primary-surface-color, white);\n",
       "                }\n",
       "\n",
       "                .geemap-colab .jupyter-button {\n",
       "                    --jp-layout-color3: var(--colab-primary-surface-color, white);\n",
       "                }\n",
       "            </style>\n",
       "            "
      ],
      "text/plain": [
       "<IPython.core.display.HTML object>"
      ]
     },
     "metadata": {},
     "output_type": "display_data"
    }
   ],
   "source": [
    "GAUL1 = ee.FeatureCollection('FAO/GAUL/2015/level1')\n",
    "GAUL0 = ee.FeatureCollection('FAO/GAUL/2015/level0')\n",
    "\n",
    "germany = GAUL0.filter(ee.Filter.eq('ADM0_NAME', 'Germany'))\n",
    "provinces = GAUL1.filter(ee.Filter.eq('ADM0_NAME', 'Germany'))\n",
    "provinces = provinces.toList(provinces.size().getInfo())\n",
    "subset1_geom = ee.FeatureCollection(provinces.slice(0, int(0.5 * provinces.size().getInfo())))\n",
    "subset2_geom = ee.FeatureCollection(provinces.slice(int(0.5 * provinces.size().getInfo()), provinces.size().getInfo()))\n",
    "\n"
   ]
  },
  {
   "cell_type": "code",
   "execution_count": 3,
   "metadata": {},
   "outputs": [
    {
     "data": {
      "text/html": [
       "\n",
       "            <style>\n",
       "                .geemap-dark {\n",
       "                    --jp-widgets-color: white;\n",
       "                    --jp-widgets-label-color: white;\n",
       "                    --jp-ui-font-color1: white;\n",
       "                    --jp-layout-color2: #454545;\n",
       "                    background-color: #383838;\n",
       "                }\n",
       "\n",
       "                .geemap-dark .jupyter-button {\n",
       "                    --jp-layout-color3: #383838;\n",
       "                }\n",
       "\n",
       "                .geemap-colab {\n",
       "                    background-color: var(--colab-primary-surface-color, white);\n",
       "                }\n",
       "\n",
       "                .geemap-colab .jupyter-button {\n",
       "                    --jp-layout-color3: var(--colab-primary-surface-color, white);\n",
       "                }\n",
       "            </style>\n",
       "            "
      ],
      "text/plain": [
       "<IPython.core.display.HTML object>"
      ]
     },
     "metadata": {},
     "output_type": "display_data"
    },
    {
     "data": {
      "application/vnd.jupyter.widget-view+json": {
       "model_id": "5229b100cb16479a919ab17d2caf71b5",
       "version_major": 2,
       "version_minor": 0
      },
      "text/plain": [
       "Map(center=[0, 0], controls=(WidgetControl(options=['position', 'transparent_bg'], widget=SearchDataGUI(childr…"
      ]
     },
     "execution_count": 3,
     "metadata": {},
     "output_type": "execute_result"
    }
   ],
   "source": [
    "Map = geemap.Map()\n",
    "Map.addLayer(subset1_geom, {'color':'red'}, 'subset1')\n",
    "Map.addLayer(subset2_geom, {'color':'blue'}, 'subset2')\n",
    "Map.centerObject(germany)\n",
    "Map"
   ]
  },
  {
   "cell_type": "code",
   "execution_count": 13,
   "metadata": {},
   "outputs": [
    {
     "data": {
      "text/html": [
       "\n",
       "            <style>\n",
       "                .geemap-dark {\n",
       "                    --jp-widgets-color: white;\n",
       "                    --jp-widgets-label-color: white;\n",
       "                    --jp-ui-font-color1: white;\n",
       "                    --jp-layout-color2: #454545;\n",
       "                    background-color: #383838;\n",
       "                }\n",
       "\n",
       "                .geemap-dark .jupyter-button {\n",
       "                    --jp-layout-color3: #383838;\n",
       "                }\n",
       "\n",
       "                .geemap-colab {\n",
       "                    background-color: var(--colab-primary-surface-color, white);\n",
       "                }\n",
       "\n",
       "                .geemap-colab .jupyter-button {\n",
       "                    --jp-layout-color3: var(--colab-primary-surface-color, white);\n",
       "                }\n",
       "            </style>\n",
       "            "
      ],
      "text/plain": [
       "<IPython.core.display.HTML object>"
      ]
     },
     "metadata": {},
     "output_type": "display_data"
    }
   ],
   "source": [
    "roi = subset1_geom\n",
    "start_date = '2018-01-01'\n",
    "end_date = '2019-01-01'\n",
    "year = '2018'\n",
    "step = 10 #Days to step for averages\n",
    "export = 10\n",
    "\n",
    "lucas_subset =  (\n",
    "    ee.FeatureCollection('projects/ee-ayang115t/assets/lucas_2018_filtered_polygons')\n",
    "    .filterBounds(roi)\n",
    ")\n",
    "s1 = generate_s1_averages(start_date, end_date, roi, step)\n",
    "histar = extract_histar(roi, start_date, end_date, step)\n",
    "\n",
    "fused = s1.addBands(histar)"
   ]
  },
  {
   "cell_type": "code",
   "execution_count": 8,
   "metadata": {},
   "outputs": [
    {
     "data": {
      "text/html": [
       "\n",
       "            <style>\n",
       "                .geemap-dark {\n",
       "                    --jp-widgets-color: white;\n",
       "                    --jp-widgets-label-color: white;\n",
       "                    --jp-ui-font-color1: white;\n",
       "                    --jp-layout-color2: #454545;\n",
       "                    background-color: #383838;\n",
       "                }\n",
       "\n",
       "                .geemap-dark .jupyter-button {\n",
       "                    --jp-layout-color3: #383838;\n",
       "                }\n",
       "\n",
       "                .geemap-colab {\n",
       "                    background-color: var(--colab-primary-surface-color, white);\n",
       "                }\n",
       "\n",
       "                .geemap-colab .jupyter-button {\n",
       "                    --jp-layout-color3: var(--colab-primary-surface-color, white);\n",
       "                }\n",
       "            </style>\n",
       "            "
      ],
      "text/plain": [
       "<IPython.core.display.HTML object>"
      ]
     },
     "metadata": {},
     "output_type": "display_data"
    },
    {
     "data": {
      "text/html": [
       "<div><style>:root {\n",
       "  --font-color-primary: var(--jp-content-font-color0, rgba(0, 0, 0, 1));\n",
       "  --font-color-secondary: var(--jp-content-font-color2, rgba(0, 0, 0, 0.6));\n",
       "  --font-color-accent: rgba(123, 31, 162, 1);\n",
       "  --border-color: var(--jp-border-color2, #e0e0e0);\n",
       "  --background-color: var(--jp-layout-color0, white);\n",
       "  --background-color-row-even: var(--jp-layout-color1, white);\n",
       "  --background-color-row-odd: var(--jp-layout-color2, #eeeeee);\n",
       "}\n",
       "\n",
       "html[theme=\"dark\"],\n",
       "body[data-theme=\"dark\"],\n",
       "body.vscode-dark {\n",
       "  --font-color-primary: rgba(255, 255, 255, 1);\n",
       "  --font-color-secondary: rgba(255, 255, 255, 0.6);\n",
       "  --font-color-accent: rgb(173, 132, 190);\n",
       "  --border-color: #2e2e2e;\n",
       "  --background-color: #111111;\n",
       "  --background-color-row-even: #111111;\n",
       "  --background-color-row-odd: #313131;\n",
       "}\n",
       "\n",
       ".ee {\n",
       "  padding: 1em;\n",
       "  line-height: 1.5em;\n",
       "  min-width: 300px;\n",
       "  max-width: 1200px;\n",
       "  overflow-y: scroll;\n",
       "  max-height: 600px;\n",
       "  border: 1px solid var(--border-color);\n",
       "  font-family: monospace;\n",
       "}\n",
       "\n",
       ".ee li {\n",
       "  list-style-type: none;\n",
       "}\n",
       "\n",
       ".ee ul {\n",
       "  padding-left: 1.5em !important;\n",
       "  margin: 0;\n",
       "}\n",
       "\n",
       ".ee > ul {\n",
       "  padding-left: 0 !important;\n",
       "}\n",
       "\n",
       ".ee-open,\n",
       ".ee-shut {\n",
       "  color: var(--font-color-secondary);\n",
       "  cursor: pointer;\n",
       "  margin: 0;\n",
       "}\n",
       "\n",
       ".ee-open:hover,\n",
       ".ee-shut:hover {\n",
       "  color: var(--font-color-primary);\n",
       "}\n",
       "\n",
       ".ee-k {\n",
       "  color: var(--font-color-accent);\n",
       "  margin-right: 6px;\n",
       "}\n",
       "\n",
       ".ee-v {\n",
       "  color: var(--font-color-primary);\n",
       "}\n",
       "\n",
       ".ee-toggle {\n",
       "  display: none;\n",
       "}\n",
       "\n",
       ".ee-shut + ul {\n",
       "  display: none;\n",
       "}\n",
       "\n",
       ".ee-open + ul {\n",
       "  display: block;\n",
       "}\n",
       "\n",
       ".ee-shut::before {\n",
       "  display: inline-block;\n",
       "  content: \"▼\";\n",
       "  margin-right: 6px;\n",
       "  transform: rotate(-90deg);\n",
       "  transition: transform 0.2s;\n",
       "}\n",
       "\n",
       ".ee-open::before {\n",
       "  transform: rotate(0deg);\n",
       "  display: inline-block;\n",
       "  content: \"▼\";\n",
       "  margin-right: 6px;\n",
       "  transition: transform 0.2s;\n",
       "}\n",
       "</style><div class='ee'><ul><li><label class='ee-shut'>List (288 elements)<input type='checkbox' class='ee-toggle'></label><ul><li><span class='ee-k'>0:</span><span class='ee-v'>0_VV_20180101</span></li><li><span class='ee-k'>1:</span><span class='ee-v'>0_VH_20180101</span></li><li><span class='ee-k'>2:</span><span class='ee-v'>1_VV_20180111</span></li><li><span class='ee-k'>3:</span><span class='ee-v'>1_VH_20180111</span></li><li><span class='ee-k'>4:</span><span class='ee-v'>2_VV_20180121</span></li><li><span class='ee-k'>5:</span><span class='ee-v'>2_VH_20180121</span></li><li><span class='ee-k'>6:</span><span class='ee-v'>3_VV_20180131</span></li><li><span class='ee-k'>7:</span><span class='ee-v'>3_VH_20180131</span></li><li><span class='ee-k'>8:</span><span class='ee-v'>4_VV_20180210</span></li><li><span class='ee-k'>9:</span><span class='ee-v'>4_VH_20180210</span></li><li><span class='ee-k'>10:</span><span class='ee-v'>5_VV_20180220</span></li><li><span class='ee-k'>11:</span><span class='ee-v'>5_VH_20180220</span></li><li><span class='ee-k'>12:</span><span class='ee-v'>6_VV_20180302</span></li><li><span class='ee-k'>13:</span><span class='ee-v'>6_VH_20180302</span></li><li><span class='ee-k'>14:</span><span class='ee-v'>7_VV_20180312</span></li><li><span class='ee-k'>15:</span><span class='ee-v'>7_VH_20180312</span></li><li><span class='ee-k'>16:</span><span class='ee-v'>8_VV_20180322</span></li><li><span class='ee-k'>17:</span><span class='ee-v'>8_VH_20180322</span></li><li><span class='ee-k'>18:</span><span class='ee-v'>9_VV_20180401</span></li><li><span class='ee-k'>19:</span><span class='ee-v'>9_VH_20180401</span></li><li><span class='ee-k'>20:</span><span class='ee-v'>10_VV_20180411</span></li><li><span class='ee-k'>21:</span><span class='ee-v'>10_VH_20180411</span></li><li><span class='ee-k'>22:</span><span class='ee-v'>11_VV_20180421</span></li><li><span class='ee-k'>23:</span><span class='ee-v'>11_VH_20180421</span></li><li><span class='ee-k'>24:</span><span class='ee-v'>12_VV_20180501</span></li><li><span class='ee-k'>25:</span><span class='ee-v'>12_VH_20180501</span></li><li><span class='ee-k'>26:</span><span class='ee-v'>13_VV_20180511</span></li><li><span class='ee-k'>27:</span><span class='ee-v'>13_VH_20180511</span></li><li><span class='ee-k'>28:</span><span class='ee-v'>14_VV_20180521</span></li><li><span class='ee-k'>29:</span><span class='ee-v'>14_VH_20180521</span></li><li><span class='ee-k'>30:</span><span class='ee-v'>15_VV_20180531</span></li><li><span class='ee-k'>31:</span><span class='ee-v'>15_VH_20180531</span></li><li><span class='ee-k'>32:</span><span class='ee-v'>16_VV_20180610</span></li><li><span class='ee-k'>33:</span><span class='ee-v'>16_VH_20180610</span></li><li><span class='ee-k'>34:</span><span class='ee-v'>17_VV_20180620</span></li><li><span class='ee-k'>35:</span><span class='ee-v'>17_VH_20180620</span></li><li><span class='ee-k'>36:</span><span class='ee-v'>18_VV_20180630</span></li><li><span class='ee-k'>37:</span><span class='ee-v'>18_VH_20180630</span></li><li><span class='ee-k'>38:</span><span class='ee-v'>19_VV_20180710</span></li><li><span class='ee-k'>39:</span><span class='ee-v'>19_VH_20180710</span></li><li><span class='ee-k'>40:</span><span class='ee-v'>20_VV_20180720</span></li><li><span class='ee-k'>41:</span><span class='ee-v'>20_VH_20180720</span></li><li><span class='ee-k'>42:</span><span class='ee-v'>21_VV_20180730</span></li><li><span class='ee-k'>43:</span><span class='ee-v'>21_VH_20180730</span></li><li><span class='ee-k'>44:</span><span class='ee-v'>22_VV_20180809</span></li><li><span class='ee-k'>45:</span><span class='ee-v'>22_VH_20180809</span></li><li><span class='ee-k'>46:</span><span class='ee-v'>23_VV_20180819</span></li><li><span class='ee-k'>47:</span><span class='ee-v'>23_VH_20180819</span></li><li><span class='ee-k'>48:</span><span class='ee-v'>24_VV_20180829</span></li><li><span class='ee-k'>49:</span><span class='ee-v'>24_VH_20180829</span></li><li><span class='ee-k'>50:</span><span class='ee-v'>25_VV_20180908</span></li><li><span class='ee-k'>51:</span><span class='ee-v'>25_VH_20180908</span></li><li><span class='ee-k'>52:</span><span class='ee-v'>26_VV_20180918</span></li><li><span class='ee-k'>53:</span><span class='ee-v'>26_VH_20180918</span></li><li><span class='ee-k'>54:</span><span class='ee-v'>27_VV_20180928</span></li><li><span class='ee-k'>55:</span><span class='ee-v'>27_VH_20180928</span></li><li><span class='ee-k'>56:</span><span class='ee-v'>28_VV_20181008</span></li><li><span class='ee-k'>57:</span><span class='ee-v'>28_VH_20181008</span></li><li><span class='ee-k'>58:</span><span class='ee-v'>29_VV_20181018</span></li><li><span class='ee-k'>59:</span><span class='ee-v'>29_VH_20181018</span></li><li><span class='ee-k'>60:</span><span class='ee-v'>30_VV_20181028</span></li><li><span class='ee-k'>61:</span><span class='ee-v'>30_VH_20181028</span></li><li><span class='ee-k'>62:</span><span class='ee-v'>31_VV_20181107</span></li><li><span class='ee-k'>63:</span><span class='ee-v'>31_VH_20181107</span></li><li><span class='ee-k'>64:</span><span class='ee-v'>32_VV_20181117</span></li><li><span class='ee-k'>65:</span><span class='ee-v'>32_VH_20181117</span></li><li><span class='ee-k'>66:</span><span class='ee-v'>33_VV_20181127</span></li><li><span class='ee-k'>67:</span><span class='ee-v'>33_VH_20181127</span></li><li><span class='ee-k'>68:</span><span class='ee-v'>34_VV_20181207</span></li><li><span class='ee-k'>69:</span><span class='ee-v'>34_VH_20181207</span></li><li><span class='ee-k'>70:</span><span class='ee-v'>35_VV_20181217</span></li><li><span class='ee-k'>71:</span><span class='ee-v'>35_VH_20181217</span></li><li><span class='ee-k'>72:</span><span class='ee-v'>0_B1_mean_post_20180101</span></li><li><span class='ee-k'>73:</span><span class='ee-v'>0_B2_mean_post_20180101</span></li><li><span class='ee-k'>74:</span><span class='ee-v'>0_B3_mean_post_20180101</span></li><li><span class='ee-k'>75:</span><span class='ee-v'>0_B4_mean_post_20180101</span></li><li><span class='ee-k'>76:</span><span class='ee-v'>0_B5_mean_post_20180101</span></li><li><span class='ee-k'>77:</span><span class='ee-v'>0_B7_mean_post_20180101</span></li><li><span class='ee-k'>78:</span><span class='ee-v'>1_B1_mean_post_20180111</span></li><li><span class='ee-k'>79:</span><span class='ee-v'>1_B2_mean_post_20180111</span></li><li><span class='ee-k'>80:</span><span class='ee-v'>1_B3_mean_post_20180111</span></li><li><span class='ee-k'>81:</span><span class='ee-v'>1_B4_mean_post_20180111</span></li><li><span class='ee-k'>82:</span><span class='ee-v'>1_B5_mean_post_20180111</span></li><li><span class='ee-k'>83:</span><span class='ee-v'>1_B7_mean_post_20180111</span></li><li><span class='ee-k'>84:</span><span class='ee-v'>2_B1_mean_post_20180121</span></li><li><span class='ee-k'>85:</span><span class='ee-v'>2_B2_mean_post_20180121</span></li><li><span class='ee-k'>86:</span><span class='ee-v'>2_B3_mean_post_20180121</span></li><li><span class='ee-k'>87:</span><span class='ee-v'>2_B4_mean_post_20180121</span></li><li><span class='ee-k'>88:</span><span class='ee-v'>2_B5_mean_post_20180121</span></li><li><span class='ee-k'>89:</span><span class='ee-v'>2_B7_mean_post_20180121</span></li><li><span class='ee-k'>90:</span><span class='ee-v'>3_B1_mean_post_20180131</span></li><li><span class='ee-k'>91:</span><span class='ee-v'>3_B2_mean_post_20180131</span></li><li><span class='ee-k'>92:</span><span class='ee-v'>3_B3_mean_post_20180131</span></li><li><span class='ee-k'>93:</span><span class='ee-v'>3_B4_mean_post_20180131</span></li><li><span class='ee-k'>94:</span><span class='ee-v'>3_B5_mean_post_20180131</span></li><li><span class='ee-k'>95:</span><span class='ee-v'>3_B7_mean_post_20180131</span></li><li><span class='ee-k'>96:</span><span class='ee-v'>4_B1_mean_post_20180210</span></li><li><span class='ee-k'>97:</span><span class='ee-v'>4_B2_mean_post_20180210</span></li><li><span class='ee-k'>98:</span><span class='ee-v'>4_B3_mean_post_20180210</span></li><li><span class='ee-k'>99:</span><span class='ee-v'>4_B4_mean_post_20180210</span></li><li><span class='ee-k'>100:</span><span class='ee-v'>4_B5_mean_post_20180210</span></li><li><span class='ee-k'>101:</span><span class='ee-v'>4_B7_mean_post_20180210</span></li><li><span class='ee-k'>102:</span><span class='ee-v'>5_B1_mean_post_20180220</span></li><li><span class='ee-k'>103:</span><span class='ee-v'>5_B2_mean_post_20180220</span></li><li><span class='ee-k'>104:</span><span class='ee-v'>5_B3_mean_post_20180220</span></li><li><span class='ee-k'>105:</span><span class='ee-v'>5_B4_mean_post_20180220</span></li><li><span class='ee-k'>106:</span><span class='ee-v'>5_B5_mean_post_20180220</span></li><li><span class='ee-k'>107:</span><span class='ee-v'>5_B7_mean_post_20180220</span></li><li><span class='ee-k'>108:</span><span class='ee-v'>6_B1_mean_post_20180302</span></li><li><span class='ee-k'>109:</span><span class='ee-v'>6_B2_mean_post_20180302</span></li><li><span class='ee-k'>110:</span><span class='ee-v'>6_B3_mean_post_20180302</span></li><li><span class='ee-k'>111:</span><span class='ee-v'>6_B4_mean_post_20180302</span></li><li><span class='ee-k'>112:</span><span class='ee-v'>6_B5_mean_post_20180302</span></li><li><span class='ee-k'>113:</span><span class='ee-v'>6_B7_mean_post_20180302</span></li><li><span class='ee-k'>114:</span><span class='ee-v'>7_B1_mean_post_20180312</span></li><li><span class='ee-k'>115:</span><span class='ee-v'>7_B2_mean_post_20180312</span></li><li><span class='ee-k'>116:</span><span class='ee-v'>7_B3_mean_post_20180312</span></li><li><span class='ee-k'>117:</span><span class='ee-v'>7_B4_mean_post_20180312</span></li><li><span class='ee-k'>118:</span><span class='ee-v'>7_B5_mean_post_20180312</span></li><li><span class='ee-k'>119:</span><span class='ee-v'>7_B7_mean_post_20180312</span></li><li><span class='ee-k'>120:</span><span class='ee-v'>8_B1_mean_post_20180322</span></li><li><span class='ee-k'>121:</span><span class='ee-v'>8_B2_mean_post_20180322</span></li><li><span class='ee-k'>122:</span><span class='ee-v'>8_B3_mean_post_20180322</span></li><li><span class='ee-k'>123:</span><span class='ee-v'>8_B4_mean_post_20180322</span></li><li><span class='ee-k'>124:</span><span class='ee-v'>8_B5_mean_post_20180322</span></li><li><span class='ee-k'>125:</span><span class='ee-v'>8_B7_mean_post_20180322</span></li><li><span class='ee-k'>126:</span><span class='ee-v'>9_B1_mean_post_20180401</span></li><li><span class='ee-k'>127:</span><span class='ee-v'>9_B2_mean_post_20180401</span></li><li><span class='ee-k'>128:</span><span class='ee-v'>9_B3_mean_post_20180401</span></li><li><span class='ee-k'>129:</span><span class='ee-v'>9_B4_mean_post_20180401</span></li><li><span class='ee-k'>130:</span><span class='ee-v'>9_B5_mean_post_20180401</span></li><li><span class='ee-k'>131:</span><span class='ee-v'>9_B7_mean_post_20180401</span></li><li><span class='ee-k'>132:</span><span class='ee-v'>10_B1_mean_post_20180411</span></li><li><span class='ee-k'>133:</span><span class='ee-v'>10_B2_mean_post_20180411</span></li><li><span class='ee-k'>134:</span><span class='ee-v'>10_B3_mean_post_20180411</span></li><li><span class='ee-k'>135:</span><span class='ee-v'>10_B4_mean_post_20180411</span></li><li><span class='ee-k'>136:</span><span class='ee-v'>10_B5_mean_post_20180411</span></li><li><span class='ee-k'>137:</span><span class='ee-v'>10_B7_mean_post_20180411</span></li><li><span class='ee-k'>138:</span><span class='ee-v'>11_B1_mean_post_20180421</span></li><li><span class='ee-k'>139:</span><span class='ee-v'>11_B2_mean_post_20180421</span></li><li><span class='ee-k'>140:</span><span class='ee-v'>11_B3_mean_post_20180421</span></li><li><span class='ee-k'>141:</span><span class='ee-v'>11_B4_mean_post_20180421</span></li><li><span class='ee-k'>142:</span><span class='ee-v'>11_B5_mean_post_20180421</span></li><li><span class='ee-k'>143:</span><span class='ee-v'>11_B7_mean_post_20180421</span></li><li><span class='ee-k'>144:</span><span class='ee-v'>12_B1_mean_post_20180501</span></li><li><span class='ee-k'>145:</span><span class='ee-v'>12_B2_mean_post_20180501</span></li><li><span class='ee-k'>146:</span><span class='ee-v'>12_B3_mean_post_20180501</span></li><li><span class='ee-k'>147:</span><span class='ee-v'>12_B4_mean_post_20180501</span></li><li><span class='ee-k'>148:</span><span class='ee-v'>12_B5_mean_post_20180501</span></li><li><span class='ee-k'>149:</span><span class='ee-v'>12_B7_mean_post_20180501</span></li><li><span class='ee-k'>150:</span><span class='ee-v'>13_B1_mean_post_20180511</span></li><li><span class='ee-k'>151:</span><span class='ee-v'>13_B2_mean_post_20180511</span></li><li><span class='ee-k'>152:</span><span class='ee-v'>13_B3_mean_post_20180511</span></li><li><span class='ee-k'>153:</span><span class='ee-v'>13_B4_mean_post_20180511</span></li><li><span class='ee-k'>154:</span><span class='ee-v'>13_B5_mean_post_20180511</span></li><li><span class='ee-k'>155:</span><span class='ee-v'>13_B7_mean_post_20180511</span></li><li><span class='ee-k'>156:</span><span class='ee-v'>14_B1_mean_post_20180521</span></li><li><span class='ee-k'>157:</span><span class='ee-v'>14_B2_mean_post_20180521</span></li><li><span class='ee-k'>158:</span><span class='ee-v'>14_B3_mean_post_20180521</span></li><li><span class='ee-k'>159:</span><span class='ee-v'>14_B4_mean_post_20180521</span></li><li><span class='ee-k'>160:</span><span class='ee-v'>14_B5_mean_post_20180521</span></li><li><span class='ee-k'>161:</span><span class='ee-v'>14_B7_mean_post_20180521</span></li><li><span class='ee-k'>162:</span><span class='ee-v'>15_B1_mean_post_20180531</span></li><li><span class='ee-k'>163:</span><span class='ee-v'>15_B2_mean_post_20180531</span></li><li><span class='ee-k'>164:</span><span class='ee-v'>15_B3_mean_post_20180531</span></li><li><span class='ee-k'>165:</span><span class='ee-v'>15_B4_mean_post_20180531</span></li><li><span class='ee-k'>166:</span><span class='ee-v'>15_B5_mean_post_20180531</span></li><li><span class='ee-k'>167:</span><span class='ee-v'>15_B7_mean_post_20180531</span></li><li><span class='ee-k'>168:</span><span class='ee-v'>16_B1_mean_post_20180610</span></li><li><span class='ee-k'>169:</span><span class='ee-v'>16_B2_mean_post_20180610</span></li><li><span class='ee-k'>170:</span><span class='ee-v'>16_B3_mean_post_20180610</span></li><li><span class='ee-k'>171:</span><span class='ee-v'>16_B4_mean_post_20180610</span></li><li><span class='ee-k'>172:</span><span class='ee-v'>16_B5_mean_post_20180610</span></li><li><span class='ee-k'>173:</span><span class='ee-v'>16_B7_mean_post_20180610</span></li><li><span class='ee-k'>174:</span><span class='ee-v'>17_B1_mean_post_20180620</span></li><li><span class='ee-k'>175:</span><span class='ee-v'>17_B2_mean_post_20180620</span></li><li><span class='ee-k'>176:</span><span class='ee-v'>17_B3_mean_post_20180620</span></li><li><span class='ee-k'>177:</span><span class='ee-v'>17_B4_mean_post_20180620</span></li><li><span class='ee-k'>178:</span><span class='ee-v'>17_B5_mean_post_20180620</span></li><li><span class='ee-k'>179:</span><span class='ee-v'>17_B7_mean_post_20180620</span></li><li><span class='ee-k'>180:</span><span class='ee-v'>18_B1_mean_post_20180630</span></li><li><span class='ee-k'>181:</span><span class='ee-v'>18_B2_mean_post_20180630</span></li><li><span class='ee-k'>182:</span><span class='ee-v'>18_B3_mean_post_20180630</span></li><li><span class='ee-k'>183:</span><span class='ee-v'>18_B4_mean_post_20180630</span></li><li><span class='ee-k'>184:</span><span class='ee-v'>18_B5_mean_post_20180630</span></li><li><span class='ee-k'>185:</span><span class='ee-v'>18_B7_mean_post_20180630</span></li><li><span class='ee-k'>186:</span><span class='ee-v'>19_B1_mean_post_20180710</span></li><li><span class='ee-k'>187:</span><span class='ee-v'>19_B2_mean_post_20180710</span></li><li><span class='ee-k'>188:</span><span class='ee-v'>19_B3_mean_post_20180710</span></li><li><span class='ee-k'>189:</span><span class='ee-v'>19_B4_mean_post_20180710</span></li><li><span class='ee-k'>190:</span><span class='ee-v'>19_B5_mean_post_20180710</span></li><li><span class='ee-k'>191:</span><span class='ee-v'>19_B7_mean_post_20180710</span></li><li><span class='ee-k'>192:</span><span class='ee-v'>20_B1_mean_post_20180720</span></li><li><span class='ee-k'>193:</span><span class='ee-v'>20_B2_mean_post_20180720</span></li><li><span class='ee-k'>194:</span><span class='ee-v'>20_B3_mean_post_20180720</span></li><li><span class='ee-k'>195:</span><span class='ee-v'>20_B4_mean_post_20180720</span></li><li><span class='ee-k'>196:</span><span class='ee-v'>20_B5_mean_post_20180720</span></li><li><span class='ee-k'>197:</span><span class='ee-v'>20_B7_mean_post_20180720</span></li><li><span class='ee-k'>198:</span><span class='ee-v'>21_B1_mean_post_20180730</span></li><li><span class='ee-k'>199:</span><span class='ee-v'>21_B2_mean_post_20180730</span></li><li><span class='ee-k'>200:</span><span class='ee-v'>21_B3_mean_post_20180730</span></li><li><span class='ee-k'>201:</span><span class='ee-v'>21_B4_mean_post_20180730</span></li><li><span class='ee-k'>202:</span><span class='ee-v'>21_B5_mean_post_20180730</span></li><li><span class='ee-k'>203:</span><span class='ee-v'>21_B7_mean_post_20180730</span></li><li><span class='ee-k'>204:</span><span class='ee-v'>22_B1_mean_post_20180809</span></li><li><span class='ee-k'>205:</span><span class='ee-v'>22_B2_mean_post_20180809</span></li><li><span class='ee-k'>206:</span><span class='ee-v'>22_B3_mean_post_20180809</span></li><li><span class='ee-k'>207:</span><span class='ee-v'>22_B4_mean_post_20180809</span></li><li><span class='ee-k'>208:</span><span class='ee-v'>22_B5_mean_post_20180809</span></li><li><span class='ee-k'>209:</span><span class='ee-v'>22_B7_mean_post_20180809</span></li><li><span class='ee-k'>210:</span><span class='ee-v'>23_B1_mean_post_20180819</span></li><li><span class='ee-k'>211:</span><span class='ee-v'>23_B2_mean_post_20180819</span></li><li><span class='ee-k'>212:</span><span class='ee-v'>23_B3_mean_post_20180819</span></li><li><span class='ee-k'>213:</span><span class='ee-v'>23_B4_mean_post_20180819</span></li><li><span class='ee-k'>214:</span><span class='ee-v'>23_B5_mean_post_20180819</span></li><li><span class='ee-k'>215:</span><span class='ee-v'>23_B7_mean_post_20180819</span></li><li><span class='ee-k'>216:</span><span class='ee-v'>24_B1_mean_post_20180829</span></li><li><span class='ee-k'>217:</span><span class='ee-v'>24_B2_mean_post_20180829</span></li><li><span class='ee-k'>218:</span><span class='ee-v'>24_B3_mean_post_20180829</span></li><li><span class='ee-k'>219:</span><span class='ee-v'>24_B4_mean_post_20180829</span></li><li><span class='ee-k'>220:</span><span class='ee-v'>24_B5_mean_post_20180829</span></li><li><span class='ee-k'>221:</span><span class='ee-v'>24_B7_mean_post_20180829</span></li><li><span class='ee-k'>222:</span><span class='ee-v'>25_B1_mean_post_20180908</span></li><li><span class='ee-k'>223:</span><span class='ee-v'>25_B2_mean_post_20180908</span></li><li><span class='ee-k'>224:</span><span class='ee-v'>25_B3_mean_post_20180908</span></li><li><span class='ee-k'>225:</span><span class='ee-v'>25_B4_mean_post_20180908</span></li><li><span class='ee-k'>226:</span><span class='ee-v'>25_B5_mean_post_20180908</span></li><li><span class='ee-k'>227:</span><span class='ee-v'>25_B7_mean_post_20180908</span></li><li><span class='ee-k'>228:</span><span class='ee-v'>26_B1_mean_post_20180918</span></li><li><span class='ee-k'>229:</span><span class='ee-v'>26_B2_mean_post_20180918</span></li><li><span class='ee-k'>230:</span><span class='ee-v'>26_B3_mean_post_20180918</span></li><li><span class='ee-k'>231:</span><span class='ee-v'>26_B4_mean_post_20180918</span></li><li><span class='ee-k'>232:</span><span class='ee-v'>26_B5_mean_post_20180918</span></li><li><span class='ee-k'>233:</span><span class='ee-v'>26_B7_mean_post_20180918</span></li><li><span class='ee-k'>234:</span><span class='ee-v'>27_B1_mean_post_20180928</span></li><li><span class='ee-k'>235:</span><span class='ee-v'>27_B2_mean_post_20180928</span></li><li><span class='ee-k'>236:</span><span class='ee-v'>27_B3_mean_post_20180928</span></li><li><span class='ee-k'>237:</span><span class='ee-v'>27_B4_mean_post_20180928</span></li><li><span class='ee-k'>238:</span><span class='ee-v'>27_B5_mean_post_20180928</span></li><li><span class='ee-k'>239:</span><span class='ee-v'>27_B7_mean_post_20180928</span></li><li><span class='ee-k'>240:</span><span class='ee-v'>28_B1_mean_post_20181008</span></li><li><span class='ee-k'>241:</span><span class='ee-v'>28_B2_mean_post_20181008</span></li><li><span class='ee-k'>242:</span><span class='ee-v'>28_B3_mean_post_20181008</span></li><li><span class='ee-k'>243:</span><span class='ee-v'>28_B4_mean_post_20181008</span></li><li><span class='ee-k'>244:</span><span class='ee-v'>28_B5_mean_post_20181008</span></li><li><span class='ee-k'>245:</span><span class='ee-v'>28_B7_mean_post_20181008</span></li><li><span class='ee-k'>246:</span><span class='ee-v'>29_B1_mean_post_20181018</span></li><li><span class='ee-k'>247:</span><span class='ee-v'>29_B2_mean_post_20181018</span></li><li><span class='ee-k'>248:</span><span class='ee-v'>29_B3_mean_post_20181018</span></li><li><span class='ee-k'>249:</span><span class='ee-v'>29_B4_mean_post_20181018</span></li><li><span class='ee-k'>250:</span><span class='ee-v'>29_B5_mean_post_20181018</span></li><li><span class='ee-k'>251:</span><span class='ee-v'>29_B7_mean_post_20181018</span></li><li><span class='ee-k'>252:</span><span class='ee-v'>30_B1_mean_post_20181028</span></li><li><span class='ee-k'>253:</span><span class='ee-v'>30_B2_mean_post_20181028</span></li><li><span class='ee-k'>254:</span><span class='ee-v'>30_B3_mean_post_20181028</span></li><li><span class='ee-k'>255:</span><span class='ee-v'>30_B4_mean_post_20181028</span></li><li><span class='ee-k'>256:</span><span class='ee-v'>30_B5_mean_post_20181028</span></li><li><span class='ee-k'>257:</span><span class='ee-v'>30_B7_mean_post_20181028</span></li><li><span class='ee-k'>258:</span><span class='ee-v'>31_B1_mean_post_20181107</span></li><li><span class='ee-k'>259:</span><span class='ee-v'>31_B2_mean_post_20181107</span></li><li><span class='ee-k'>260:</span><span class='ee-v'>31_B3_mean_post_20181107</span></li><li><span class='ee-k'>261:</span><span class='ee-v'>31_B4_mean_post_20181107</span></li><li><span class='ee-k'>262:</span><span class='ee-v'>31_B5_mean_post_20181107</span></li><li><span class='ee-k'>263:</span><span class='ee-v'>31_B7_mean_post_20181107</span></li><li><span class='ee-k'>264:</span><span class='ee-v'>32_B1_mean_post_20181117</span></li><li><span class='ee-k'>265:</span><span class='ee-v'>32_B2_mean_post_20181117</span></li><li><span class='ee-k'>266:</span><span class='ee-v'>32_B3_mean_post_20181117</span></li><li><span class='ee-k'>267:</span><span class='ee-v'>32_B4_mean_post_20181117</span></li><li><span class='ee-k'>268:</span><span class='ee-v'>32_B5_mean_post_20181117</span></li><li><span class='ee-k'>269:</span><span class='ee-v'>32_B7_mean_post_20181117</span></li><li><span class='ee-k'>270:</span><span class='ee-v'>33_B1_mean_post_20181127</span></li><li><span class='ee-k'>271:</span><span class='ee-v'>33_B2_mean_post_20181127</span></li><li><span class='ee-k'>272:</span><span class='ee-v'>33_B3_mean_post_20181127</span></li><li><span class='ee-k'>273:</span><span class='ee-v'>33_B4_mean_post_20181127</span></li><li><span class='ee-k'>274:</span><span class='ee-v'>33_B5_mean_post_20181127</span></li><li><span class='ee-k'>275:</span><span class='ee-v'>33_B7_mean_post_20181127</span></li><li><span class='ee-k'>276:</span><span class='ee-v'>34_B1_mean_post_20181207</span></li><li><span class='ee-k'>277:</span><span class='ee-v'>34_B2_mean_post_20181207</span></li><li><span class='ee-k'>278:</span><span class='ee-v'>34_B3_mean_post_20181207</span></li><li><span class='ee-k'>279:</span><span class='ee-v'>34_B4_mean_post_20181207</span></li><li><span class='ee-k'>280:</span><span class='ee-v'>34_B5_mean_post_20181207</span></li><li><span class='ee-k'>281:</span><span class='ee-v'>34_B7_mean_post_20181207</span></li><li><span class='ee-k'>282:</span><span class='ee-v'>35_B1_mean_post_20181217</span></li><li><span class='ee-k'>283:</span><span class='ee-v'>35_B2_mean_post_20181217</span></li><li><span class='ee-k'>284:</span><span class='ee-v'>35_B3_mean_post_20181217</span></li><li><span class='ee-k'>285:</span><span class='ee-v'>35_B4_mean_post_20181217</span></li><li><span class='ee-k'>286:</span><span class='ee-v'>35_B5_mean_post_20181217</span></li><li><span class='ee-k'>287:</span><span class='ee-v'>35_B7_mean_post_20181217</span></li></ul></li></ul></div><script>function toggleHeader() {\n",
       "    const parent = this.parentElement;\n",
       "    parent.className = parent.className === \"ee-open\" ? \"ee-shut\" : \"ee-open\";\n",
       "}\n",
       "\n",
       "for (let c of document.getElementsByClassName(\"ee-toggle\")) {\n",
       "    c.onclick = toggleHeader;\n",
       "}</script></div>"
      ],
      "text/plain": [
       "<ee.ee_list.List at 0x7f77292da710>"
      ]
     },
     "execution_count": 8,
     "metadata": {},
     "output_type": "execute_result"
    }
   ],
   "source": [
    "fused.bandNames()\n"
   ]
  },
  {
   "cell_type": "code",
   "execution_count": 14,
   "metadata": {},
   "outputs": [
    {
     "data": {
      "text/html": [
       "\n",
       "            <style>\n",
       "                .geemap-dark {\n",
       "                    --jp-widgets-color: white;\n",
       "                    --jp-widgets-label-color: white;\n",
       "                    --jp-ui-font-color1: white;\n",
       "                    --jp-layout-color2: #454545;\n",
       "                    background-color: #383838;\n",
       "                }\n",
       "\n",
       "                .geemap-dark .jupyter-button {\n",
       "                    --jp-layout-color3: #383838;\n",
       "                }\n",
       "\n",
       "                .geemap-colab {\n",
       "                    background-color: var(--colab-primary-surface-color, white);\n",
       "                }\n",
       "\n",
       "                .geemap-colab .jupyter-button {\n",
       "                    --jp-layout-color3: var(--colab-primary-surface-color, white);\n",
       "                }\n",
       "            </style>\n",
       "            "
      ],
      "text/plain": [
       "<IPython.core.display.HTML object>"
      ]
     },
     "metadata": {},
     "output_type": "display_data"
    }
   ],
   "source": [
    "imageVisParam = {\n",
    "    \"opacity\": 1,\n",
    "    \"bands\": [\n",
    "        \"13_B3_mean_post_20180511\",\n",
    "        \"13_B2_mean_post_20180511\",\n",
    "        \"13_B1_mean_post_20180511\"\n",
    "    ],\n",
    "    'min': 0,\n",
    "    'max': 2500,\n",
    "    'gamma': 1\n",
    "}\n",
    "\n",
    "s1VisParams = {\n",
    "    \n",
    "}\n",
    "\n",
    "Map.addLayer(fused.select(\"13_VV_20180511\").clip(roi), {\"min\": -25, \"max\": 0}, \"VV\")\n",
    "Map.addLayer(fused.select(\"13_VH_20180511\").clip(roi), {\"min\": -25, \"max\": 0}, \"VH\")\n",
    "Map.addLayer(fused.clip(roi), imageVisParam, \"visual\")\n",
    "Map.addLayer(lucas_subset, {\"color\":\"red\"}, \"Lucas points\")"
   ]
  },
  {
   "cell_type": "code",
   "execution_count": 15,
   "metadata": {},
   "outputs": [
    {
     "data": {
      "text/html": [
       "\n",
       "            <style>\n",
       "                .geemap-dark {\n",
       "                    --jp-widgets-color: white;\n",
       "                    --jp-widgets-label-color: white;\n",
       "                    --jp-ui-font-color1: white;\n",
       "                    --jp-layout-color2: #454545;\n",
       "                    background-color: #383838;\n",
       "                }\n",
       "\n",
       "                .geemap-dark .jupyter-button {\n",
       "                    --jp-layout-color3: #383838;\n",
       "                }\n",
       "\n",
       "                .geemap-colab {\n",
       "                    background-color: var(--colab-primary-surface-color, white);\n",
       "                }\n",
       "\n",
       "                .geemap-colab .jupyter-button {\n",
       "                    --jp-layout-color3: var(--colab-primary-surface-color, white);\n",
       "                }\n",
       "            </style>\n",
       "            "
      ],
      "text/plain": [
       "<IPython.core.display.HTML object>"
      ]
     },
     "metadata": {},
     "output_type": "display_data"
    },
    {
     "data": {
      "application/vnd.jupyter.widget-view+json": {
       "model_id": "5229b100cb16479a919ab17d2caf71b5",
       "version_major": 2,
       "version_minor": 0
      },
      "text/plain": [
       "Map(bottom=3946.0, center=[19.394067895396613, 18.874511718750004], controls=(WidgetControl(options=['position…"
      ]
     },
     "execution_count": 15,
     "metadata": {},
     "output_type": "execute_result"
    }
   ],
   "source": [
    "Map"
   ]
  },
  {
   "cell_type": "code",
   "execution_count": null,
   "metadata": {},
   "outputs": [],
   "source": []
  }
 ],
 "metadata": {
  "kernelspec": {
   "display_name": "moment",
   "language": "python",
   "name": "python3"
  },
  "language_info": {
   "codemirror_mode": {
    "name": "ipython",
    "version": 3
   },
   "file_extension": ".py",
   "mimetype": "text/x-python",
   "name": "python",
   "nbconvert_exporter": "python",
   "pygments_lexer": "ipython3",
   "version": "3.11.9"
  }
 },
 "nbformat": 4,
 "nbformat_minor": 2
}
