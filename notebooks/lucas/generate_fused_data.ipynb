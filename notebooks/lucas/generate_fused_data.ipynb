{
 "cells": [
  {
   "cell_type": "markdown",
   "metadata": {},
   "source": [
    "Imports"
   ]
  },
  {
   "cell_type": "code",
   "execution_count": 1,
   "metadata": {},
   "outputs": [
    {
     "name": "stderr",
     "output_type": "stream",
     "text": [
      "/u/ayang1/.conda/envs/CropTS/lib/python3.11/site-packages/torch/cuda/__init__.py:619: UserWarning: Can't initialize NVML\n",
      "  warnings.warn(\"Can't initialize NVML\")\n"
     ]
    }
   ],
   "source": [
    "import pandas as pd\n",
    "import numpy as np\n",
    "import sys\n",
    "import os\n",
    "\n",
    "sys.path.append('../../')\n",
    "\n",
    "from src.data.ee_utils import *\n",
    "from src.data.data_utils import *\n",
    "from src.data.dataset import *\n",
    "from sklearn.model_selection import train_test_split\n"
   ]
  },
  {
   "cell_type": "code",
   "execution_count": 2,
   "metadata": {},
   "outputs": [
    {
     "data": {
      "text/html": [
       "\n",
       "            <style>\n",
       "                .geemap-dark {\n",
       "                    --jp-widgets-color: white;\n",
       "                    --jp-widgets-label-color: white;\n",
       "                    --jp-ui-font-color1: white;\n",
       "                    --jp-layout-color2: #454545;\n",
       "                    background-color: #383838;\n",
       "                }\n",
       "\n",
       "                .geemap-dark .jupyter-button {\n",
       "                    --jp-layout-color3: #383838;\n",
       "                }\n",
       "\n",
       "                .geemap-colab {\n",
       "                    background-color: var(--colab-primary-surface-color, white);\n",
       "                }\n",
       "\n",
       "                .geemap-colab .jupyter-button {\n",
       "                    --jp-layout-color3: var(--colab-primary-surface-color, white);\n",
       "                }\n",
       "            </style>\n",
       "            "
      ],
      "text/plain": [
       "<IPython.core.display.HTML object>"
      ]
     },
     "metadata": {},
     "output_type": "display_data"
    },
    {
     "name": "stdout",
     "output_type": "stream",
     "text": [
      "fused_Romania_subset1.csv\n",
      "fused_Italy_subset3.csv\n",
      "fused_Finland_subset1.csv\n",
      "fused_Finland_subset3.csv\n",
      "fused_Czech Republic_subset3.csv\n",
      "fused_Romania_subset4.csv\n",
      "fused_France_subset2.csv\n",
      "fused_Germany_subset2.csv\n",
      "fused_Bulgaria_subset1.csv\n",
      "fused_Romania_subset3.csv\n",
      "fused_Greece_subset2.csv\n",
      "fused_Sweden_subset3.csv\n",
      "fused_Estonia_subset4.csv\n",
      "fused_Sweden_subset2.csv\n",
      "fused_Finland_subset2.csv\n",
      "fused_Romania_subset2.csv\n",
      "fused_Italy_subset2.csv\n",
      "fused_Italy_subset1.csv\n",
      "fused_Germany_subset1.csv\n",
      "fused_Greece_subset1.csv\n",
      "fused_Germany_subset3.csv\n",
      "fused_Poland_subset2.csv\n",
      "fused_Sweden_subset4.csv\n",
      "fused_Sweden_subset1.csv\n",
      "fused_Czech Republic_subset1.csv\n",
      "fused_Greece_subset3.csv\n",
      "fused_Bulgaria_subset2.csv\n",
      "fused_Bulgaria_subset3.csv\n",
      "fused_Czech Republic_subset2.csv\n",
      "fused_Spain_subset4.csv\n",
      "fused_Finland_subset4.csv\n",
      "fused.csv\n",
      "fused_Poland_subset3.csv\n",
      "fused_France_subset3.csv\n"
     ]
    },
    {
     "name": "stderr",
     "output_type": "stream",
     "text": [
      "/tmp/ipykernel_707881/509694193.py:8: FutureWarning: The behavior of DataFrame concatenation with empty or all-NA entries is deprecated. In a future version, this will no longer exclude empty or all-NA columns when determining the result dtypes. To retain the old behavior, exclude the relevant entries before the concat operation.\n",
      "  fused_data = pd.concat(dfs)\n"
     ]
    },
    {
     "name": "stdout",
     "output_type": "stream",
     "text": [
      "Dropped classes: ['B17', 'B18', 'B19', 'B21', 'B23', 'B33', 'B34', 'B35', 'B36', 'B37', 'B41', 'B42', 'B43', 'B44', 'B51', 'B54', 'B71', 'B73', 'B74', 'B75', 'B76', 'B77', 'B81', 'B82', 'B83', 'B84']\n",
      "Dataset Length:  38327\n",
      "Band data: dict_keys(['B1', 'B2', 'B3', 'B5', 'B7', 'VH', 'VV'])\n"
     ]
    }
   ],
   "source": [
    "data_root = '/scratch/bbug/ayang1/datasets/lucas_fused/csvs/'\n",
    "\n",
    "dfs = []\n",
    "for ds in os.listdir(data_root):\n",
    "    if ds.endswith('.csv'):\n",
    "        print(ds)\n",
    "        dfs.append(pd.read_csv(os.path.join(data_root, ds)))\n",
    "fused_data = pd.concat(dfs)\n",
    "        \n",
    "# fused_data = pd.read_csv('/scratch/bbug/ayang1/datasets/lucas_fused/csvs/fused.csv')\n",
    "fused_data = drop_labels(fused_data, min_labels=1000)\n",
    "\n",
    "\n",
    "# Get bandwise data\n",
    "bands = ['B1', 'B2', 'B3', 'B5', 'B7', 'VH', 'VV']\n",
    "# bands = ['VH', 'VV']\n",
    "band_data = get_band_arrays(fused_data, bands, lambda x: int(x.split('_')[0]))\n",
    "print('Band data:', band_data.keys())"
   ]
  },
  {
   "cell_type": "code",
   "execution_count": 10,
   "metadata": {},
   "outputs": [
    {
     "data": {
      "text/html": [
       "\n",
       "            <style>\n",
       "                .geemap-dark {\n",
       "                    --jp-widgets-color: white;\n",
       "                    --jp-widgets-label-color: white;\n",
       "                    --jp-ui-font-color1: white;\n",
       "                    --jp-layout-color2: #454545;\n",
       "                    background-color: #383838;\n",
       "                }\n",
       "\n",
       "                .geemap-dark .jupyter-button {\n",
       "                    --jp-layout-color3: #383838;\n",
       "                }\n",
       "\n",
       "                .geemap-colab {\n",
       "                    background-color: var(--colab-primary-surface-color, white);\n",
       "                }\n",
       "\n",
       "                .geemap-colab .jupyter-button {\n",
       "                    --jp-layout-color3: var(--colab-primary-surface-color, white);\n",
       "                }\n",
       "            </style>\n",
       "            "
      ],
      "text/plain": [
       "<IPython.core.display.HTML object>"
      ]
     },
     "metadata": {},
     "output_type": "display_data"
    },
    {
     "data": {
      "text/plain": [
       "array(['Romania', 'Italy', 'Finland', 'Czech Republic', 'France',\n",
       "       'Germany', 'Bulgaria', 'Greece', 'Sweden', 'Estonia', 'Poland',\n",
       "       'Spain', 'Austria', 'Belgium', 'Croatia', 'Denmark', 'Hungary',\n",
       "       'Ireland', 'Latvia', 'Lithuania', 'Luxembourg', 'Netherlands',\n",
       "       'Portugal', 'Slovakia', 'Slovenia'], dtype=object)"
      ]
     },
     "execution_count": 10,
     "metadata": {},
     "output_type": "execute_result"
    }
   ],
   "source": [
    "fused_data.country.unique()"
   ]
  },
  {
   "cell_type": "code",
   "execution_count": 11,
   "metadata": {},
   "outputs": [
    {
     "data": {
      "text/html": [
       "\n",
       "            <style>\n",
       "                .geemap-dark {\n",
       "                    --jp-widgets-color: white;\n",
       "                    --jp-widgets-label-color: white;\n",
       "                    --jp-ui-font-color1: white;\n",
       "                    --jp-layout-color2: #454545;\n",
       "                    background-color: #383838;\n",
       "                }\n",
       "\n",
       "                .geemap-dark .jupyter-button {\n",
       "                    --jp-layout-color3: #383838;\n",
       "                }\n",
       "\n",
       "                .geemap-colab {\n",
       "                    background-color: var(--colab-primary-surface-color, white);\n",
       "                }\n",
       "\n",
       "                .geemap-colab .jupyter-button {\n",
       "                    --jp-layout-color3: var(--colab-primary-surface-color, white);\n",
       "                }\n",
       "            </style>\n",
       "            "
      ],
      "text/plain": [
       "<IPython.core.display.HTML object>"
      ]
     },
     "metadata": {},
     "output_type": "display_data"
    },
    {
     "name": "stdout",
     "output_type": "stream",
     "text": [
      "38327\n"
     ]
    }
   ],
   "source": [
    "print(np.unique(fused_data['LABEL'], return_counts=True)[1].sum())"
   ]
  },
  {
   "cell_type": "code",
   "execution_count": 4,
   "metadata": {},
   "outputs": [
    {
     "data": {
      "text/html": [
       "\n",
       "            <style>\n",
       "                .geemap-dark {\n",
       "                    --jp-widgets-color: white;\n",
       "                    --jp-widgets-label-color: white;\n",
       "                    --jp-ui-font-color1: white;\n",
       "                    --jp-layout-color2: #454545;\n",
       "                    background-color: #383838;\n",
       "                }\n",
       "\n",
       "                .geemap-dark .jupyter-button {\n",
       "                    --jp-layout-color3: #383838;\n",
       "                }\n",
       "\n",
       "                .geemap-colab {\n",
       "                    background-color: var(--colab-primary-surface-color, white);\n",
       "                }\n",
       "\n",
       "                .geemap-colab .jupyter-button {\n",
       "                    --jp-layout-color3: var(--colab-primary-surface-color, white);\n",
       "                }\n",
       "            </style>\n",
       "            "
      ],
      "text/plain": [
       "<IPython.core.display.HTML object>"
      ]
     },
     "metadata": {},
     "output_type": "display_data"
    }
   ],
   "source": [
    "data = np.stack([band[:, :] for band in band_data.values()], axis=1)\n",
    "labels = fused_data['LABEL'].to_numpy()"
   ]
  },
  {
   "cell_type": "code",
   "execution_count": 20,
   "metadata": {},
   "outputs": [
    {
     "data": {
      "text/html": [
       "\n",
       "            <style>\n",
       "                .geemap-dark {\n",
       "                    --jp-widgets-color: white;\n",
       "                    --jp-widgets-label-color: white;\n",
       "                    --jp-ui-font-color1: white;\n",
       "                    --jp-layout-color2: #454545;\n",
       "                    background-color: #383838;\n",
       "                }\n",
       "\n",
       "                .geemap-dark .jupyter-button {\n",
       "                    --jp-layout-color3: #383838;\n",
       "                }\n",
       "\n",
       "                .geemap-colab {\n",
       "                    background-color: var(--colab-primary-surface-color, white);\n",
       "                }\n",
       "\n",
       "                .geemap-colab .jupyter-button {\n",
       "                    --jp-layout-color3: var(--colab-primary-surface-color, white);\n",
       "                }\n",
       "            </style>\n",
       "            "
      ],
      "text/plain": [
       "<IPython.core.display.HTML object>"
      ]
     },
     "metadata": {},
     "output_type": "display_data"
    }
   ],
   "source": [
    "\n",
    "assert data.shape[0] == labels.shape[0]\n",
    "\n",
    "dataset = dataset_split(data, labels)"
   ]
  },
  {
   "cell_type": "code",
   "execution_count": 21,
   "metadata": {},
   "outputs": [
    {
     "data": {
      "text/html": [
       "\n",
       "            <style>\n",
       "                .geemap-dark {\n",
       "                    --jp-widgets-color: white;\n",
       "                    --jp-widgets-label-color: white;\n",
       "                    --jp-ui-font-color1: white;\n",
       "                    --jp-layout-color2: #454545;\n",
       "                    background-color: #383838;\n",
       "                }\n",
       "\n",
       "                .geemap-dark .jupyter-button {\n",
       "                    --jp-layout-color3: #383838;\n",
       "                }\n",
       "\n",
       "                .geemap-colab {\n",
       "                    background-color: var(--colab-primary-surface-color, white);\n",
       "                }\n",
       "\n",
       "                .geemap-colab .jupyter-button {\n",
       "                    --jp-layout-color3: var(--colab-primary-surface-color, white);\n",
       "                }\n",
       "            </style>\n",
       "            "
      ],
      "text/plain": [
       "<IPython.core.display.HTML object>"
      ]
     },
     "metadata": {},
     "output_type": "display_data"
    }
   ],
   "source": [
    "# save_path = '/scratch/bbug/ayang1/datasets/lucas_fused/sar_only'\n",
    "\n",
    "for k, v in dataset.items():\n",
    "    np.save(os.path.join(save_path, k), v, allow_pickle=True)"
   ]
  },
  {
   "cell_type": "code",
   "execution_count": 40,
   "metadata": {},
   "outputs": [
    {
     "data": {
      "text/html": [
       "\n",
       "            <style>\n",
       "                .geemap-dark {\n",
       "                    --jp-widgets-color: white;\n",
       "                    --jp-widgets-label-color: white;\n",
       "                    --jp-ui-font-color1: white;\n",
       "                    --jp-layout-color2: #454545;\n",
       "                    background-color: #383838;\n",
       "                }\n",
       "\n",
       "                .geemap-dark .jupyter-button {\n",
       "                    --jp-layout-color3: #383838;\n",
       "                }\n",
       "\n",
       "                .geemap-colab {\n",
       "                    background-color: var(--colab-primary-surface-color, white);\n",
       "                }\n",
       "\n",
       "                .geemap-colab .jupyter-button {\n",
       "                    --jp-layout-color3: var(--colab-primary-surface-color, white);\n",
       "                }\n",
       "            </style>\n",
       "            "
      ],
      "text/plain": [
       "<IPython.core.display.HTML object>"
      ]
     },
     "metadata": {},
     "output_type": "display_data"
    },
    {
     "name": "stdout",
     "output_type": "stream",
     "text": [
      "dict_keys(['B11', 'B12', 'B13', 'B14', 'B15', 'B16', 'B22', 'B31', 'B32', 'B52', 'B53', 'B55'])\n"
     ]
    }
   ],
   "source": [
    "band_masks = {}\n",
    "\n",
    "for i in np.unique(labels):\n",
    "    mask = labels == i\n",
    "    band_masks[i] = mask\n",
    "    \n",
    "print(band_masks.keys())    \n"
   ]
  },
  {
   "cell_type": "code",
   "execution_count": 47,
   "metadata": {},
   "outputs": [
    {
     "data": {
      "text/html": [
       "\n",
       "            <style>\n",
       "                .geemap-dark {\n",
       "                    --jp-widgets-color: white;\n",
       "                    --jp-widgets-label-color: white;\n",
       "                    --jp-ui-font-color1: white;\n",
       "                    --jp-layout-color2: #454545;\n",
       "                    background-color: #383838;\n",
       "                }\n",
       "\n",
       "                .geemap-dark .jupyter-button {\n",
       "                    --jp-layout-color3: #383838;\n",
       "                }\n",
       "\n",
       "                .geemap-colab {\n",
       "                    background-color: var(--colab-primary-surface-color, white);\n",
       "                }\n",
       "\n",
       "                .geemap-colab .jupyter-button {\n",
       "                    --jp-layout-color3: var(--colab-primary-surface-color, white);\n",
       "                }\n",
       "            </style>\n",
       "            "
      ],
      "text/plain": [
       "<IPython.core.display.HTML object>"
      ]
     },
     "metadata": {},
     "output_type": "display_data"
    },
    {
     "name": "stderr",
     "output_type": "stream",
     "text": [
      "No artists with labels found to put in legend.  Note that artists whose label start with an underscore are ignored when legend() is called with no argument.\n"
     ]
    },
    {
     "data": {
      "image/png": "[encoded data removed]",
      "text/plain": [
       "<Figure size 640x480 with 1 Axes>"
      ]
     },
     "metadata": {},
     "output_type": "display_data"
    }
   ],
   "source": [
    "crop_type = 'B11'\n",
    "band = 5\n",
    "b11 = data[band_masks['B11']].astype(float)\n",
    "band_averages = np.mean(b11, axis=0)\n",
    "band_stds = np.std(b11, axis=0)\n",
    "\n",
    "mean = band_averages[band]\n",
    "std = band_stds[band]\n",
    "\n",
    "plt.plot(mean)\n",
    "plt.fill_between(np.arange(len(mean)), mean - std, mean + std, alpha=0.3)\n",
    "\n",
    "plt.xlabel('Day of Year (2018)')\n",
    "plt.ylabel(f'{band}')\n",
    "plt.title(f'{band} for {crop_type} in 2018')\n",
    "plt.xticks(np.arange(0, 36, 2), np.arange(0, 360, 20))\n",
    "plt.legend(loc='lower right')\n",
    "plt.show()"
   ]
  },
  {
   "cell_type": "code",
   "execution_count": null,
   "metadata": {},
   "outputs": [],
   "source": []
  },
  {
   "cell_type": "code",
   "execution_count": null,
   "metadata": {},
   "outputs": [],
   "source": []
  }
 ],
 "metadata": {
  "kernelspec": {
   "display_name": "CropTS",
   "language": "python",
   "name": "python3"
  },
  "language_info": {
   "codemirror_mode": {
    "name": "ipython",
    "version": 3
   },
   "file_extension": ".py",
   "mimetype": "text/x-python",
   "name": "python",
   "nbconvert_exporter": "python",
   "pygments_lexer": "ipython3",
   "version": "3.11.9"
  }
 },
 "nbformat": 4,
 "nbformat_minor": 2
}
