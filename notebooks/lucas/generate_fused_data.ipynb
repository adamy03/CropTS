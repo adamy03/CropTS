{
 "cells": [
  {
   "cell_type": "markdown",
   "metadata": {},
   "source": [
    "Imports"
   ]
  },
  {
   "cell_type": "code",
   "execution_count": 1,
   "metadata": {},
   "outputs": [
    {
     "name": "stderr",
     "output_type": "stream",
     "text": [
      "/u/ayang1/.conda/envs/CropTS/lib/python3.11/site-packages/torch/cuda/__init__.py:619: UserWarning: Can't initialize NVML\n",
      "  warnings.warn(\"Can't initialize NVML\")\n"
     ]
    }
   ],
   "source": [
    "import pandas as pd\n",
    "import numpy as np\n",
    "import sys\n",
    "import os\n",
    "\n",
    "sys.path.append('../../')\n",
    "\n",
    "from src.data.ee_utils import *\n",
    "from src.data.data_utils import *\n",
    "from src.data.dataset import *\n",
    "from sklearn.model_selection import train_test_split\n"
   ]
  },
  {
   "cell_type": "code",
   "execution_count": 2,
   "metadata": {},
   "outputs": [
    {
     "data": {
      "text/html": [
       "\n",
       "            <style>\n",
       "                .geemap-dark {\n",
       "                    --jp-widgets-color: white;\n",
       "                    --jp-widgets-label-color: white;\n",
       "                    --jp-ui-font-color1: white;\n",
       "                    --jp-layout-color2: #454545;\n",
       "                    background-color: #383838;\n",
       "                }\n",
       "\n",
       "                .geemap-dark .jupyter-button {\n",
       "                    --jp-layout-color3: #383838;\n",
       "                }\n",
       "\n",
       "                .geemap-colab {\n",
       "                    background-color: var(--colab-primary-surface-color, white);\n",
       "                }\n",
       "\n",
       "                .geemap-colab .jupyter-button {\n",
       "                    --jp-layout-color3: var(--colab-primary-surface-color, white);\n",
       "                }\n",
       "            </style>\n",
       "            "
      ],
      "text/plain": [
       "<IPython.core.display.HTML object>"
      ]
     },
     "metadata": {},
     "output_type": "display_data"
    },
    {
     "name": "stdout",
     "output_type": "stream",
     "text": [
      "fused_Spain_subset_8.csv\n",
      "fused_Spain_subset_6.csv\n",
      "fused_Luxembourg.csv\n",
      "fused_Lithuania.csv\n",
      "fused_Spain_Castilla-La Mancha_1_0.csv\n",
      "fused_France_subset_0.csv\n",
      "fused_Ireland.csv\n",
      "fused_Germany_subset_4.csv\n",
      "fused_Poland_subset_9_0.csv\n",
      "fused_Sweden_subset_2.csv\n",
      "fused_Latvia.csv\n",
      "fused_Estonia_subset_5.csv\n",
      "fused_France_subset_1.csv\n",
      "fused_Poland_subset_0.csv\n",
      "fused_Poland_subset_6.csv\n",
      "fused_Spain_subset_10_8.csv\n",
      "fused_Spain_subset_0.csv\n",
      "fused_Spain_subset_3.csv\n",
      "fused_Greece_subset_1.csv\n",
      "fused_Spain_subset_10_6.csv\n",
      "fused_Poland_subset_8.csv\n",
      "fused_Italy_subset_1.csv\n",
      "fused_Greece_subset_0.csv\n",
      "fused_Belgium.csv\n",
      "fused_Slovenia.csv\n",
      "fused_Croatia.csv\n",
      "fused_France_subset_5.csv\n",
      "fused_Spain_subset_1.csv\n",
      "fused_Italy_subset_2.csv\n",
      "fused_Germany_subset_3.csv\n",
      "fused_Netherlands.csv\n",
      "fused_Spain_subset_10_2.csv\n",
      "fused_Spain_subset_10_0.csv\n",
      "fused_Spain_subset_10_3.csv\n",
      "fused_Poland_subset_4.csv\n",
      "fused_Slovakia.csv\n",
      "fused_Poland_subset_9_1.csv\n",
      "fused_Greece_subset_3.csv\n",
      "fused_Finland_subset_0.csv\n",
      "fused_Spain_subset_7.csv\n",
      "fused_Poland_subset_9_4.csv\n",
      "fused_Estonia_subset_2.csv\n",
      "fused_Germany_subset_5.csv\n",
      "fused_France_subset_4.csv\n",
      "fused_Poland_subset_3.csv\n",
      "fused_Estonia_subset_6.csv\n",
      "fused_Spain_Castilla-La Mancha_1_2.csv\n",
      "fused_Estonia_subset_4.csv\n",
      "fused_Sweden_subset_0.csv\n",
      "fused_Spain_subset_10_4.csv\n",
      "fused_Poland_subset_7.csv\n",
      "fused_Finland_subset_3.csv\n",
      "fused_Poland_subset_9_2.csv\n",
      "fused_Poland_subset_2.csv\n",
      "fused_Spain_Castilla-La Mancha_1_1.csv\n",
      "fused_Romania.csv\n",
      "fused_Greece_subset_2.csv\n",
      "fused_Denmark.csv\n",
      "fused_Malta.csv\n",
      "fused_Poland_subset_5.csv\n",
      "fused_Spain_subset_10_1.csv\n",
      "fused_France_subset_6.csv\n",
      "fused_Poland_subset_9_3.csv\n",
      "fused_Spain_subset_10_9.csv\n",
      "fused_Portugal.csv\n",
      "fused_Sweden_subset_1.csv\n",
      "fused_Finland_subset_1.csv\n",
      "fused_Germany_subset_0.csv\n",
      "fused_Germany_subset_1.csv\n",
      "fused_Finland_subset_2.csv\n",
      "fused_Czech Republic.csv\n",
      "fused_Germany_subset_2.csv\n",
      "fused_Estonia_subset_0.csv\n",
      "fused_Austria.csv\n",
      "fused_Italy_subset_0.csv\n",
      "fused_Sweden_subset_3.csv\n",
      "fused_France_subset_2.csv\n",
      "fused_Spain_Castilla y León_1.csv\n",
      "fused_Estonia_subset_3.csv\n",
      "fused_France_subset_3.csv\n",
      "fused_Bulgaria.csv\n",
      "fused_Poland_subset_1.csv\n",
      "fused_Hungary.csv\n",
      "fused_Germany_subset_6.csv\n",
      "fused_Spain_subset_10_7.csv\n",
      "fused_Spain_Castilla-La Mancha_0.csv\n",
      "fused_Spain_subset_10_5.csv\n",
      "fused_Estonia_subset_1.csv\n",
      "fused_Italy_subset_3.csv\n",
      "Dropped classes: ['B17', 'B19', 'B21', 'B23', 'B33', 'B34', 'B35', 'B36', 'B37', 'B42', 'B43', 'B44', 'B51', 'B54', 'B71', 'B73', 'B74', 'B75', 'B76', 'B77', 'B81', 'B82', 'B83', 'B84']\n",
      "Dataset Length:  251332\n",
      "len_dataset: 55454\n"
     ]
    }
   ],
   "source": [
    "data_root = '/scratch/bbug/ayang1/datasets/lucas_fused/csvs/'\n",
    "\n",
    "# Load all datasets\n",
    "fused_data = process_fused_data(data_root)"
   ]
  },
  {
   "cell_type": "code",
   "execution_count": 31,
   "metadata": {},
   "outputs": [
    {
     "data": {
      "text/html": [
       "\n",
       "            <style>\n",
       "                .geemap-dark {\n",
       "                    --jp-widgets-color: white;\n",
       "                    --jp-widgets-label-color: white;\n",
       "                    --jp-ui-font-color1: white;\n",
       "                    --jp-layout-color2: #454545;\n",
       "                    background-color: #383838;\n",
       "                }\n",
       "\n",
       "                .geemap-dark .jupyter-button {\n",
       "                    --jp-layout-color3: #383838;\n",
       "                }\n",
       "\n",
       "                .geemap-colab {\n",
       "                    background-color: var(--colab-primary-surface-color, white);\n",
       "                }\n",
       "\n",
       "                .geemap-colab .jupyter-button {\n",
       "                    --jp-layout-color3: var(--colab-primary-surface-color, white);\n",
       "                }\n",
       "            </style>\n",
       "            "
      ],
      "text/plain": [
       "<IPython.core.display.HTML object>"
      ]
     },
     "metadata": {},
     "output_type": "display_data"
    }
   ],
   "source": [
    "# Split into train, val, and test\n",
    "train_data, test_data = train_test_split(fused_data, test_size=0.4, random_state=RANDOM_STATE)\n",
    "train_data, val_data = train_test_split(train_data, test_size=0.1, random_state=RANDOM_STATE)\n",
    "\n",
    "save_path = '/scratch/bbug/ayang1/datasets/lucas_fused/'\n",
    "train_data.to_csv(os.path.join(save_path, 'train.csv'))\n",
    "val_data.to_csv(os.path.join(save_path, 'val.csv'))\n",
    "test_data.to_csv(os.path.join(save_path, 'test.csv'))"
   ]
  }
 ],
 "metadata": {
  "kernelspec": {
   "display_name": "CropTS",
   "language": "python",
   "name": "python3"
  },
  "language_info": {
   "codemirror_mode": {
    "name": "ipython",
    "version": 3
   },
   "file_extension": ".py",
   "mimetype": "text/x-python",
   "name": "python",
   "nbconvert_exporter": "python",
   "pygments_lexer": "ipython3",
   "version": "3.11.9"
  }
 },
 "nbformat": 4,
 "nbformat_minor": 2
}
