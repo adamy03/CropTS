{
 "cells": [
  {
   "cell_type": "markdown",
   "metadata": {},
   "source": [
    "Imports"
   ]
  },
  {
   "cell_type": "code",
   "execution_count": 1,
   "metadata": {},
   "outputs": [
    {
     "name": "stderr",
     "output_type": "stream",
     "text": [
      "/u/ayang1/.conda/envs/CropTS/lib/python3.11/site-packages/torch/cuda/__init__.py:619: UserWarning: Can't initialize NVML\n",
      "  warnings.warn(\"Can't initialize NVML\")\n"
     ]
    }
   ],
   "source": [
    "import pandas as pd\n",
    "import numpy as np\n",
    "import os\n",
    "import sys\n",
    "import torch\n",
    "from torch.utils.data import Dataset, DataLoader\n",
    "\n",
    "sys.path.append('../../')\n",
    "from sklearn.model_selection import train_test_split\n",
    "from tqdm.notebook import tqdm\n",
    "from src.data.data_utils import *\n",
    "from src.data.dataset import *"
   ]
  },
  {
   "cell_type": "markdown",
   "metadata": {},
   "source": [
    "Data Variables"
   ]
  },
  {
   "cell_type": "code",
   "execution_count": 11,
   "metadata": {},
   "outputs": [
    {
     "name": "stderr",
     "output_type": "stream",
     "text": [
      "/tmp/ipykernel_2604672/1074388608.py:3: DtypeWarning: Columns (34,39,44) have mixed types. Specify dtype option on import or set low_memory=False.\n",
      "  labels = pd.read_csv('/scratch/bbug/ayang1/raw_data/lucas/lucas_2018/copernicus_filtered/lucas_2018_filtered.csv') # lucas labels associated with point_id\n"
     ]
    }
   ],
   "source": [
    "save_path = '/scratch/bbug/ayang1/datasets/lucas_dataset_large/' # where to save data\n",
    "data_root = '/scratch/bbug/ayang1/raw_data/lucas/s1_lucas_2018' # path to raw data\n",
    "labels = pd.read_csv('/scratch/bbug/ayang1/raw_data/lucas/lucas_2018/copernicus_filtered/lucas_2018_filtered.csv') # lucas labels associated with point_id\n",
    "\n",
    "# dataframes of s1 signals from each point\n",
    "lucas_large = [\n",
    "    'S1_point_10days_10m_1Jan-31Dec_Ireland_ratio-db.csv',\n",
    "    'S1_point_10days_10m_1Jan-31Dec_Italy_ratio-db.csv',\n",
    "    'S1_point_10days_10m_1Jan-31Dec_Netherlands_ratio-db.csv',\n",
    "    'S1_point_10days_10m_1Jan-31Dec_Portugal_ratio-db.csv',\n",
    "    'S1_point_10days_10m_1Jan-31Dec_Belgium_ratio-db.csv',\n",
    "    'S1_point_10days_10m_1Jan-31Dec_Bulgaria_ratio-db.csv',\n",
    "    'S1_point_10days_10m_1Jan-31Dec_Hungary_ratio-db.csv',\n",
    "]\n"
   ]
  },
  {
   "cell_type": "code",
   "execution_count": 12,
   "metadata": {},
   "outputs": [
    {
     "name": "stdout",
     "output_type": "stream",
     "text": [
      "Loading files\n",
      "Creating dataset of size 369635\n"
     ]
    },
    {
     "name": "stderr",
     "output_type": "stream",
     "text": [
      "100%|██████████| 369635/369635 [02:03<00:00, 3004.68it/s]\n"
     ]
    },
    {
     "name": "stdout",
     "output_type": "stream",
     "text": [
      "Dropped classes: ['B14', 'B17', 'B18', 'B19', 'B23', 'B35', 'B36', 'B37', 'B42', 'B43', 'B44', 'B71', 'B73', 'B74', 'B75', 'B81', 'B82', 'B83']\n",
      "Dataset Length:  363956\n"
     ]
    },
    {
     "name": "stderr",
     "output_type": "stream",
     "text": [
      "/tmp/ipykernel_2604672/4080168930.py:11: SettingWithCopyWarning: \n",
      "A value is trying to be set on a copy of a slice from a DataFrame\n",
      "\n",
      "See the caveats in the documentation: https://pandas.pydata.org/pandas-docs/stable/user_guide/indexing.html#returning-a-view-versus-a-copy\n",
      "  labeled_s1_signals.drop(columns=labeled_s1_signals.columns[column_mask], inplace=True)\n"
     ]
    }
   ],
   "source": [
    "# Combine datasets and add labels\n",
    "raw_s1_signals = []\n",
    "for path in lucas_large:\n",
    "    raw_s1_signals.append(pd.read_csv(os.path.join(data_root, path)))\n",
    "raw_s1_signals = pd.concat(raw_s1_signals)\n",
    "\n",
    "labeled_s1_signals = add_lucas_labels(raw_s1_signals, labels)\n",
    "labeled_s1_signals = drop_labels(labeled_s1_signals)\n",
    "\n",
    "column_mask = labeled_s1_signals.columns.str.contains('VHVV')\n",
    "labeled_s1_signals.drop(columns=labeled_s1_signals.columns[column_mask], inplace=True)"
   ]
  },
  {
   "cell_type": "code",
   "execution_count": 13,
   "metadata": {},
   "outputs": [],
   "source": [
    "bands = ['VH', 'VV']\n",
    "band_arrs = get_band_arrays(labeled_s1_signals, bands)"
   ]
  },
  {
   "cell_type": "code",
   "execution_count": 14,
   "metadata": {},
   "outputs": [],
   "source": [
    "data = np.concatenate([arr[:, np.newaxis, :] for arr in band_arrs.values()], axis=1)\n",
    "labels = labeled_s1_signals['LABEL']\n",
    "train_signals, test_signals, train_labels, test_labels = train_test_split(data, labels, test_size=0.3, random_state=42)\n",
    "train_signals, val_signals, train_labels, val_labels = train_test_split(train_signals, train_labels, test_size=0.1, random_state=42)"
   ]
  },
  {
   "cell_type": "code",
   "execution_count": 15,
   "metadata": {},
   "outputs": [
    {
     "name": "stdout",
     "output_type": "stream",
     "text": [
      "229292 25477 109187\n"
     ]
    }
   ],
   "source": [
    "print(len(train_labels), len(val_labels), len(test_labels))"
   ]
  },
  {
   "cell_type": "code",
   "execution_count": 16,
   "metadata": {},
   "outputs": [],
   "source": [
    "dataset = {\n",
    "    'train_signals': train_signals,\n",
    "    'train_labels': train_labels,\n",
    "    'val_signals': val_signals,\n",
    "    'val_labels': val_labels,\n",
    "    'test_signals': test_signals,\n",
    "    'test_labels': test_labels\n",
    "}\n",
    "\n",
    "for k, v in dataset.items():\n",
    "    np.save(os.path.join(save_path, k), v, allow_pickle=True)\n"
   ]
  }
 ],
 "metadata": {
  "kernelspec": {
   "display_name": "cropts",
   "language": "python",
   "name": "python3"
  },
  "language_info": {
   "codemirror_mode": {
    "name": "ipython",
    "version": 3
   },
   "file_extension": ".py",
   "mimetype": "text/x-python",
   "name": "python",
   "nbconvert_exporter": "python",
   "pygments_lexer": "ipython3",
   "version": "3.11.9"
  }
 },
 "nbformat": 4,
 "nbformat_minor": 2
}
